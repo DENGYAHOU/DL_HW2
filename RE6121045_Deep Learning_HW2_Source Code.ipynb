{
 "cells": [
  {
   "metadata": {},
   "cell_type": "markdown",
   "source": "RE50800 – Deep Learning-HW2",
   "id": "e474bba763370360"
  },
  {
   "metadata": {},
   "cell_type": "markdown",
   "source": "Author: RE6121045 數據所碩一 侯登耀",
   "id": "33ed55d1379a97ab"
  },
  {
   "metadata": {},
   "cell_type": "markdown",
   "source": "# Loading Packages",
   "id": "37940eaf15bca41a"
  },
  {
   "metadata": {
    "ExecuteTime": {
     "end_time": "2024-06-20T00:38:57.093959Z",
     "start_time": "2024-06-20T00:38:55.016798Z"
    }
   },
   "cell_type": "code",
   "source": [
    "import torch\n",
    "from sklearn.neighbors import KNeighborsClassifier\n",
    "from skimage.feature import hog\n",
    "from sklearn.svm import SVC\n",
    "from sklearn.model_selection import GridSearchCV\n",
    "from sklearn.model_selection import ShuffleSplit\n",
    "import os\n",
    "import matplotlib.pyplot as plt\n",
    "import numpy as np\n",
    "from sklearn.neural_network import MLPClassifier\n",
    "import cv2\n",
    "from fast_pytorch_kmeans import KMeans\n",
    "import pickle\n",
    "from sklearn.metrics import f1_score, accuracy_score\n",
    "from joblib import dump, load\n",
    "from sklearn.preprocessing import StandardScaler\n",
    "from sklearn.pipeline import make_pipeline\n",
    "from sklearn.utils import shuffle\n",
    "from collections import Counter\n",
    "from sklearn.linear_model import SGDClassifier\n",
    "os.chdir(\"D:\\\\DY\\\\深度學習\\\\Assignment 2\\\\images\")\n",
    "device = torch.device(\"cuda\" if torch.cuda.is_available() else \"cpu\")\n",
    "print(\"Using device:\", device)"
   ],
   "id": "d20c922df9be947f",
   "outputs": [
    {
     "name": "stdout",
     "output_type": "stream",
     "text": [
      "Using device: cuda\n"
     ]
    }
   ],
   "execution_count": 1
  },
  {
   "metadata": {},
   "cell_type": "markdown",
   "source": "# Reading Files and Images",
   "id": "cf3c65e4621c20a1"
  },
  {
   "metadata": {
    "ExecuteTime": {
     "end_time": "2024-06-20T00:38:57.098600Z",
     "start_time": "2024-06-20T00:38:57.093959Z"
    }
   },
   "cell_type": "code",
   "source": [
    "def load_img(f):\n",
    "    f=open(f)\n",
    "    lines=f.readlines()\n",
    "    imgs, lab=[], []\n",
    "    for i in range(len(lines)):\n",
    "        fn, label = lines[i].split(' ')\n",
    "\n",
    "        im1=cv2.imread(fn)\n",
    "        im1=cv2.resize(im1, (124, 124), interpolation=cv2.INTER_AREA)\n",
    "        #===============================\n",
    "        #影像處理的技巧可以放這邊，來增強影像的品質\n",
    "        im1 = cv2.fastNlMeansDenoising(im1,None,3,7,21)\n",
    "        im1 = cv2.normalize(im1, None, 0, 255, cv2.NORM_MINMAX)\n",
    "        #===============================\n",
    "        im1 = np.moveaxis(im1, 2, 0)\n",
    "        imgs.append(im1)\n",
    "        lab.append(int(label))\n",
    "\n",
    "    lab= np.asarray(lab, np.int32)\n",
    "    return imgs, lab "
   ],
   "id": "db02a4e18ad8d8b1",
   "outputs": [],
   "execution_count": 2
  },
  {
   "metadata": {
    "ExecuteTime": {
     "end_time": "2024-06-20T00:38:57.103065Z",
     "start_time": "2024-06-20T00:38:57.099604Z"
    }
   },
   "cell_type": "code",
   "source": [
    "# x, y = load_img('train.txt')\n",
    "# valx, valy = load_img('val.txt')\n",
    "# tx, ty = load_img('test.txt')\n",
    "\n",
    "# np.save('x.npy', x)            \n",
    "# np.save('y.npy', y)\n",
    "# np.save('tx.npy', tx)\n",
    "# np.save('ty.npy', ty)\n",
    "# np.save('valx.npy', valx)\n",
    "# np.save('valy.npy', valy) "
   ],
   "id": "cdd3ba6ab4139b02",
   "outputs": [],
   "execution_count": 3
  },
  {
   "metadata": {
    "ExecuteTime": {
     "end_time": "2024-06-20T00:38:57.820257Z",
     "start_time": "2024-06-20T00:38:57.104069Z"
    }
   },
   "cell_type": "code",
   "source": [
    "x = np.load('./file/x.npy')\n",
    "y = np.load('./file/y.npy')\n",
    "valx = np.load('./file/valx.npy')\n",
    "valy = np.load('./file/valy.npy')\n",
    "tx = np.load('./file/tx.npy')\n",
    "ty = np.load('./file/ty.npy')"
   ],
   "id": "3f8e7891cdadab78",
   "outputs": [],
   "execution_count": 4
  },
  {
   "metadata": {
    "ExecuteTime": {
     "end_time": "2024-06-20T01:20:52.686692Z",
     "start_time": "2024-06-20T01:20:52.680655Z"
    }
   },
   "cell_type": "code",
   "source": "sum(y==7)",
   "id": "b59b10c4a7de2126",
   "outputs": [
    {
     "data": {
      "text/plain": [
       "1282"
      ]
     },
     "execution_count": 41,
     "metadata": {},
     "output_type": "execute_result"
    }
   ],
   "execution_count": 41
  },
  {
   "metadata": {
    "ExecuteTime": {
     "end_time": "2024-06-20T01:20:31.496694Z",
     "start_time": "2024-06-20T01:20:31.494585Z"
    }
   },
   "cell_type": "code",
   "source": [
    "print(len(y))\n",
    "print(len(valy))\n",
    "print(len(ty))"
   ],
   "id": "e870c36f80327cdd",
   "outputs": [
    {
     "name": "stdout",
     "output_type": "stream",
     "text": [
      "63325\n",
      "450\n",
      "450\n"
     ]
    }
   ],
   "execution_count": 36
  },
  {
   "metadata": {
    "ExecuteTime": {
     "end_time": "2024-06-20T00:39:00.194165Z",
     "start_time": "2024-06-20T00:38:57.822262Z"
    }
   },
   "cell_type": "code",
   "source": [
    "# Load the ImageNet-mini dataset\n",
    "from torch.utils.data import DataLoader, TensorDataset\n",
    "\n",
    "x_tensor = torch.from_numpy(np.array(x)).float().to(device)\n",
    "y_tensor = torch.from_numpy(np.array(y)).long().to(device)\n",
    "dataset = TensorDataset(x_tensor, y_tensor)\n",
    "\n",
    "valx_tensor = torch.from_numpy(np.array(valx)).float().to(device)\n",
    "valy_tensor = torch.from_numpy(np.array(valy)).long().to(device)\n",
    "val_dataset = TensorDataset(valx_tensor, valy_tensor)\n",
    "\n",
    "tx_tensor = torch.from_numpy(np.array(tx)).float().to(device)\n",
    "ty_tensor = torch.from_numpy(np.array(ty)).long().to(device)\n",
    "t_dataset = TensorDataset(tx_tensor, ty_tensor)\n",
    "\n",
    "train_loader = DataLoader(dataset, batch_size=32, shuffle=True)\n",
    "val_loader = DataLoader(val_dataset, batch_size=32, shuffle=False)\n",
    "t_loader = DataLoader(t_dataset, batch_size=32, shuffle=False)"
   ],
   "id": "9a6067a588350ba7",
   "outputs": [],
   "execution_count": 5
  },
  {
   "metadata": {
    "ExecuteTime": {
     "end_time": "2024-06-20T00:39:00.211470Z",
     "start_time": "2024-06-20T00:39:00.194165Z"
    }
   },
   "cell_type": "code",
   "source": [
    "tx_tensor = torch.from_numpy(np.array(tx)).float().to(device)\n",
    "ty_tensor = torch.from_numpy(np.array(ty)).long().to(device)\n",
    "t_dataset = TensorDataset(tx_tensor, ty_tensor)\n",
    "\n",
    "train_loader = DataLoader(dataset, batch_size=32, shuffle=True)\n",
    "val_loader = DataLoader(val_dataset, batch_size=32, shuffle=False)\n",
    "t_loader = DataLoader(t_dataset, batch_size=32, shuffle=False)"
   ],
   "id": "7f8d41e3851c4f7e",
   "outputs": [],
   "execution_count": 6
  },
  {
   "metadata": {
    "ExecuteTime": {
     "end_time": "2024-06-20T00:39:00.214419Z",
     "start_time": "2024-06-20T00:39:00.211470Z"
    }
   },
   "cell_type": "code",
   "source": [
    "# 提取單一通道\n",
    "R_channel = tx_tensor[:, 0:1, :, :]  # R 通道\n",
    "G_channel = tx_tensor[:, 1:2, :, :]  # G 通道\n",
    "B_channel = tx_tensor[:, 2:3, :, :]  # B 通道"
   ],
   "id": "49ffb555e48816b4",
   "outputs": [],
   "execution_count": 7
  },
  {
   "metadata": {
    "ExecuteTime": {
     "end_time": "2024-06-20T00:39:00.239967Z",
     "start_time": "2024-06-20T00:39:00.214419Z"
    }
   },
   "cell_type": "code",
   "source": [
    "zero_channel = torch.zeros_like(R_channel)  # 用來填充的零通道\n",
    "\n",
    "# 保存單一通道組合，並用零填充其他兩個通道\n",
    "R_channel_pad = torch.cat((R_channel, zero_channel, zero_channel), dim=1)  # 只有 R\n",
    "G_channel_pad = torch.cat((zero_channel, G_channel, zero_channel), dim=1)  # 只有 G\n",
    "B_channel_pad = torch.cat((zero_channel, zero_channel, B_channel), dim=1) # 只有 B\n",
    "\n",
    "# 提取並組合雙通道，並用零填充缺失的通道\n",
    "RG_channel_pad  = torch.cat((R_channel, G_channel), dim=1) # RG 通道\n",
    "RB_channel_pad = torch.cat((R_channel, B_channel), dim=1) # RB 通道\n",
    "GB_channel_pad = torch.cat((G_channel, B_channel), dim=1)  # GB 通道\n"
   ],
   "id": "61d92d660e322f",
   "outputs": [],
   "execution_count": 8
  },
  {
   "metadata": {
    "ExecuteTime": {
     "end_time": "2024-06-20T00:39:00.243803Z",
     "start_time": "2024-06-20T00:39:00.239967Z"
    }
   },
   "cell_type": "code",
   "source": [
    "t_dataset_R = TensorDataset(R_channel, ty_tensor)\n",
    "t_dataset_G = TensorDataset(G_channel, ty_tensor)\n",
    "t_dataset_B = TensorDataset(B_channel, ty_tensor)\n",
    "t_dataset_RG = TensorDataset(RG_channel_pad, ty_tensor)\n",
    "t_dataset_RB = TensorDataset(RB_channel_pad, ty_tensor)\n",
    "t_dataset_GB = TensorDataset(GB_channel_pad, ty_tensor)\n",
    "\n",
    "t_loader_R = DataLoader(t_dataset_R , batch_size=32, shuffle=False)\n",
    "t_loader_G = DataLoader(t_dataset_G, batch_size=32, shuffle=False)\n",
    "t_loader_B = DataLoader(t_dataset_B, batch_size=32, shuffle=False)\n",
    "t_loader_RB = DataLoader(t_dataset_RB, batch_size=32, shuffle=False)\n",
    "t_loader_RG = DataLoader(t_dataset_RG, batch_size=32, shuffle=False)\n",
    "t_loader_GB = DataLoader(t_dataset_GB, batch_size=32, shuffle=False)"
   ],
   "id": "d0a11ea119d45061",
   "outputs": [],
   "execution_count": 9
  },
  {
   "metadata": {},
   "cell_type": "markdown",
   "source": "# Problem 1.",
   "id": "2511a2b7082d8016"
  },
  {
   "metadata": {
    "ExecuteTime": {
     "end_time": "2024-06-20T00:39:00.435345Z",
     "start_time": "2024-06-20T00:39:00.244806Z"
    }
   },
   "cell_type": "code",
   "source": [
    "import torch\n",
    "from torch import nn\n",
    "from torch.nn import functional as F\n",
    "\n",
    "class Attention(nn.Module):\n",
    "    def __init__(self, in_planes, ratio, K, temprature=30, init_weight=True):\n",
    "        super().__init__()\n",
    "        self.avgpool = nn.AdaptiveAvgPool2d(1)\n",
    "        self.temprature = temprature\n",
    "        self.in_planes = in_planes  # 添加 in_planes 屬性\n",
    "        #assert in_planes > ratio\n",
    "        hidden_planes = in_planes // ratio\n",
    "        self.net = nn.Sequential(\n",
    "            nn.Conv2d(in_planes, hidden_planes, kernel_size=1, bias=False),\n",
    "            nn.ReLU(),\n",
    "            nn.Conv2d(hidden_planes, K, kernel_size=1, bias=False)\n",
    "        )\n",
    "\n",
    "        if init_weight:\n",
    "            self._initialize_weights()\n",
    "\n",
    "    def update_temprature(self):\n",
    "        if self.temprature > 1:\n",
    "            self.temprature -= 1\n",
    "\n",
    "    def _initialize_weights(self):\n",
    "        for m in self.modules():\n",
    "            if isinstance(m, nn.Conv2d):\n",
    "                nn.init.kaiming_normal_(m.weight, mode='fan_out', nonlinearity='relu')\n",
    "                if m.bias is not None:\n",
    "                    nn.init.constant_(m.bias, 0)\n",
    "            if isinstance(m, nn.BatchNorm2d):\n",
    "                nn.init.constant_(m.weight, 1)\n",
    "                nn.init.constant_(m.bias, 0)\n",
    "\n",
    "    def forward(self, x):\n",
    "        att = self.avgpool(x)  # bs, in_planes, 1, 1\n",
    "        att = self.net(att).view(x.shape[0], -1)  # bs, K\n",
    "        return F.softmax(att / self.temprature, -1)\n",
    "\n",
    "class VariableInputConv(nn.Module):\n",
    "    def __init__(self, out_planes, kernel_size, stride, padding=0, dilation=1, groups=1, bias=True, K=4, temprature=30, ratio=1):\n",
    "        super().__init__()\n",
    "        self.out_planes = out_planes\n",
    "        self.kernel_size = kernel_size\n",
    "        self.stride = stride\n",
    "        self.padding = padding\n",
    "        self.dilation = dilation\n",
    "        self.groups = groups\n",
    "        self.bias = bias\n",
    "        self.K = K\n",
    "        self.temprature = temprature\n",
    "        self.ratio = ratio\n",
    "\n",
    "        self.attention = None  # 會在 forward 中根據輸入大小動態初始化\n",
    "\n",
    "    def forward(self, x):\n",
    "        bs, in_planes, h, w = x.shape\n",
    "        device = x.device  # 獲取輸入張量的設備信息\n",
    "        \n",
    "        # 動態初始化或更新 Attention 模塊\n",
    "        if self.attention is None or self.attention.in_planes != in_planes:\n",
    "            self.attention = Attention(in_planes, self.ratio, self.K, self.temprature).to(device)  # 確保 Attention 在正確的設備上\n",
    "\n",
    "        # 確保 Attention 模塊的所有參數在正確的設備上\n",
    "        self.attention.to(device)\n",
    "\n",
    "        softmax_att = self.attention(x)  # bs, K\n",
    "\n",
    "        # 動態初始化權重，確保在正確的設備上\n",
    "        weight = torch.randn(self.K, self.out_planes, in_planes // self.groups, self.kernel_size, self.kernel_size, device=device)\n",
    "        for i in range(self.K):\n",
    "            nn.init.kaiming_uniform_(weight[i])\n",
    "\n",
    "        aggregate_weight = torch.mm(softmax_att, weight.view(self.K, -1)).view(\n",
    "            bs * self.out_planes, in_planes // self.groups, self.kernel_size, self.kernel_size)\n",
    "\n",
    "        if self.bias:\n",
    "            bias = torch.randn(self.K, self.out_planes, device=device)\n",
    "            for i in range(self.K):\n",
    "                nn.init.constant_(bias[i], 0)\n",
    "            aggregate_bias = torch.mm(softmax_att, bias).view(-1)\n",
    "            output = F.conv2d(x.view(1, -1, h, w), weight=aggregate_weight, bias=aggregate_bias,\n",
    "                              stride=self.stride, padding=self.padding, groups=self.groups * bs, dilation=self.dilation)\n",
    "        else:\n",
    "            output = F.conv2d(x.view(1, -1, h, w), weight=aggregate_weight, bias=None,\n",
    "                              stride=self.stride, padding=self.padding, groups=self.groups * bs, dilation=self.dilation)\n",
    "\n",
    "        output = output.view(bs, self.out_planes, h, w)\n",
    "        return output\n",
    "\n",
    "def count_parameters(model):\n",
    "    return sum(p.numel() for p in model.parameters() if p.requires_grad)\n",
    "\n",
    "# 測試 VariableInputConv 模塊\n",
    "\n",
    "if __name__ == '__main__':\n",
    "    device = torch.device(\"cuda\" if torch.cuda.is_available() else \"cpu\")\n",
    "    \n",
    "    input = torch.randn(2, 32, 64, 64).to(device)  # 2 個樣本，每個樣本有 32 個通道，大小為 64x64\n",
    "    m = VariableInputConv(out_planes=64, kernel_size=3, stride=1, padding=1, bias=False).to(device)\n",
    "    out = m(input)\n",
    "    print(out.shape)\n",
    "    \n",
    "    input_var_channels = torch.randn(2, 48, 64, 64).to(device)  # 不同的輸入通道數量\n",
    "    out_var_channels = m(input_var_channels)\n",
    "    print(out_var_channels.shape)\n"
   ],
   "id": "d744e3cbb65e459b",
   "outputs": [
    {
     "name": "stdout",
     "output_type": "stream",
     "text": [
      "torch.Size([2, 64, 64, 64])\n",
      "torch.Size([2, 64, 64, 64])\n"
     ]
    }
   ],
   "execution_count": 10
  },
  {
   "metadata": {
    "ExecuteTime": {
     "end_time": "2024-06-20T00:39:00.439859Z",
     "start_time": "2024-06-20T00:39:00.435345Z"
    }
   },
   "cell_type": "code",
   "source": [
    "class BasicBlock(nn.Module):\n",
    "    expansion = 1\n",
    "\n",
    "    def __init__(self, in_channels, out_channels, stride=1, downsample=None):\n",
    "        super(BasicBlock, self).__init__()\n",
    "        self.conv1 = nn.Conv2d(in_channels, out_channels, kernel_size=3, stride=stride, padding=1, bias=False)\n",
    "        self.bn1 = nn.BatchNorm2d(out_channels)\n",
    "        self.relu = nn.ReLU(inplace=True)\n",
    "        self.conv2 = nn.Conv2d(out_channels, out_channels, kernel_size=3, stride=1, padding=1, bias=False)\n",
    "        self.bn2 = nn.BatchNorm2d(out_channels)\n",
    "        self.downsample = downsample\n",
    "        self.stride = stride\n",
    "\n",
    "    def forward(self, x):\n",
    "        residual = x\n",
    "\n",
    "        out = self.conv1(x)\n",
    "        out = self.bn1(out)\n",
    "        out = self.relu(out)\n",
    "\n",
    "        out = self.conv2(out)\n",
    "        out = self.bn2(out)\n",
    "\n",
    "        if self.downsample is not None:\n",
    "            residual = self.downsample(x)\n",
    "\n",
    "        out += residual\n",
    "        out = self.relu(out)\n",
    "\n",
    "        return out"
   ],
   "id": "2421ab3edc7425a4",
   "outputs": [],
   "execution_count": 11
  },
  {
   "metadata": {
    "ExecuteTime": {
     "end_time": "2024-06-20T00:39:00.446013Z",
     "start_time": "2024-06-20T00:39:00.440863Z"
    }
   },
   "cell_type": "code",
   "source": [
    "class ResNet(nn.Module):\n",
    "    def __init__(self, block, layers, num_classes=1000):\n",
    "        super(ResNet, self).__init__()\n",
    "        self.in_channels = 64\n",
    "        self.conv1 = VariableInputConv(out_planes=64, kernel_size=3, stride=1, padding=1, bias=False)\n",
    "        self.bn1 = nn.BatchNorm2d(64)\n",
    "        self.relu = nn.ReLU(inplace=True)\n",
    "        self.maxpool = nn.MaxPool2d(kernel_size=3, stride=2, padding=1)\n",
    "        self.layer1 = self._make_layer(block, 64, layers[0])\n",
    "        self.layer2 = self._make_layer(block, 128, layers[1], stride=2)\n",
    "        self.layer3 = self._make_layer(block, 256, layers[2], stride=2)\n",
    "        self.layer4 = self._make_layer(block, 512, layers[3], stride=2)\n",
    "        self.avgpool = nn.AdaptiveAvgPool2d((1, 1))\n",
    "        self.fc = nn.Linear(512 * block.expansion, num_classes)\n",
    "\n",
    "    def _make_layer(self, block, out_channels, blocks, stride=1):\n",
    "        downsample = None\n",
    "        if stride != 1 or self.in_channels != out_channels * block.expansion:\n",
    "            downsample = nn.Sequential(\n",
    "                nn.Conv2d(self.in_channels, out_channels * block.expansion, kernel_size=1, stride=stride, bias=False),\n",
    "                nn.BatchNorm2d(out_channels * block.expansion),\n",
    "            )\n",
    "        layers = []\n",
    "        layers.append(block(self.in_channels, out_channels, stride, downsample))\n",
    "        self.in_channels = out_channels * block.expansion\n",
    "        for _ in range(1, blocks):\n",
    "            layers.append(block(self.in_channels, out_channels))\n",
    "        return nn.Sequential(*layers)\n",
    "\n",
    "    def forward(self, x):\n",
    "        x = self.conv1(x)\n",
    "        x = self.bn1(x)\n",
    "        x = self.relu(x)\n",
    "        x = self.maxpool(x)\n",
    "        x = self.layer1(x)\n",
    "        x = self.layer2(x)\n",
    "        x = self.layer3(x)\n",
    "        x = self.layer4(x)\n",
    "        x = self.avgpool(x)\n",
    "        x = torch.flatten(x, 1)\n",
    "        x = self.fc(x)\n",
    "        return x"
   ],
   "id": "62548fab3f5231a4",
   "outputs": [],
   "execution_count": 12
  },
  {
   "metadata": {
    "ExecuteTime": {
     "end_time": "2024-06-20T00:39:01.254422Z",
     "start_time": "2024-06-20T00:39:00.446013Z"
    }
   },
   "cell_type": "code",
   "source": [
    "import torch\n",
    "import torch.nn as nn\n",
    "import torch.nn.functional as F\n",
    "import torch.optim as optim\n",
    "device = torch.device(\"cuda\" if torch.cuda.is_available() else \"cpu\")\n",
    "\n",
    "dynamic_convolution_model = ResNet(BasicBlock, [2, 2, 2, 2], num_classes=50).to(device)\n",
    "criterion = nn.CrossEntropyLoss()\n",
    "optimizer = optim.Adam(dynamic_convolution_model.parameters(), lr=0.001, weight_decay=1e-4)\n",
    "\n",
    "# # Define a StepLR scheduler\n",
    "# scheduler = torch.optim.lr_scheduler.ReduceLROnPlateau(optimizer, 'min')"
   ],
   "id": "1abf1456bb23a662",
   "outputs": [],
   "execution_count": 13
  },
  {
   "metadata": {
    "ExecuteTime": {
     "end_time": "2024-06-20T01:04:47.326088Z",
     "start_time": "2024-06-20T00:39:01.254422Z"
    }
   },
   "cell_type": "code",
   "source": [
    "num_epochs = 30\n",
    "early_stopping_counter = 0\n",
    "best_val_acc = 0.0\n",
    "selected_channels = [0, 1, 2] \n",
    "\n",
    "# Lists to store loss and accuracy values\n",
    "train_losses = []\n",
    "val_losses = []\n",
    "train_accuracies = []\n",
    "val_accuracies = []\n",
    "\n",
    "for epoch in range(num_epochs):\n",
    "    dynamic_convolution_model.train()  # Set model to training mode\n",
    "    running_loss = 0.0\n",
    "    correct = 0\n",
    "    total = 0\n",
    "\n",
    "    for inputs, labels in train_loader:\n",
    "        inputs, labels = inputs.to(device), labels.to(device)\n",
    "\n",
    "        optimizer.zero_grad()  # Zero the parameter gradients\n",
    "\n",
    "        # Forward pass\n",
    "        outputs = dynamic_convolution_model(inputs)\n",
    "        loss = criterion(outputs, labels)\n",
    "        loss.backward()  # Backward pass\n",
    "        torch.nn.utils.clip_grad_norm_(dynamic_convolution_model.parameters(), max_norm=2.0)  # Gradient clipping\n",
    "        optimizer.step()  # Optimize the model\n",
    "\n",
    "        # Statistics\n",
    "        running_loss += loss.item() * inputs.size(0)\n",
    "        _, predicted = torch.max(outputs, 1)\n",
    "        total += labels.size(0)\n",
    "        correct += (predicted == labels).sum().item()\n",
    "\n",
    "    epoch_loss = running_loss / total\n",
    "    epoch_acc = correct / total * 100\n",
    "    train_losses.append(epoch_loss)\n",
    "    train_accuracies.append(epoch_acc)\n",
    "\n",
    "    # Validation\n",
    "    dynamic_convolution_model.eval()  # Set model to evaluation mode\n",
    "    val_loss = 0.0\n",
    "    correct = 0\n",
    "    total = 0\n",
    "\n",
    "    with torch.no_grad():\n",
    "        for inputs, labels in val_loader:\n",
    "            inputs, labels = inputs.to(device), labels.to(device)\n",
    "            outputs = dynamic_convolution_model(inputs)\n",
    "            loss = criterion(outputs, labels)\n",
    "            val_loss += loss.item() * inputs.size(0)\n",
    "            _, predicted = torch.max(outputs, 1)\n",
    "            total += labels.size(0)\n",
    "            correct += (predicted == labels).sum().item()\n",
    "\n",
    "    val_loss /= total\n",
    "    val_acc = correct / total * 100\n",
    "    val_losses.append(val_loss)\n",
    "    val_accuracies.append(val_acc)\n",
    "\n",
    "    print(f'Epoch {epoch + 1}: Train Loss: {epoch_loss:.4f} Train Acc: {epoch_acc:.2f}% Val Loss: {val_loss:.4f} Val Acc: {val_acc:.2f}%')\n",
    "\n",
    "    if val_acc >= best_val_acc:\n",
    "        best_val_acc = val_acc\n",
    "        torch.save(dynamic_convolution_model.state_dict(), 'dynamic_convolution_model.pth')\n",
    "        early_stopping_counter = 0\n",
    "    else:\n",
    "        early_stopping_counter += 1\n",
    "\n",
    "    if early_stopping_counter > 5:  # Stops if no improvement after 4 epochs\n",
    "        print(\"Early stopping triggered.\")\n",
    "        break\n",
    "\n",
    "# Plotting the training and validation loss\n",
    "plt.figure(figsize=(12, 4))\n",
    "plt.subplot(1, 2, 1)\n",
    "plt.plot(train_losses, label='Train Loss')\n",
    "plt.plot(val_losses, label='Validation Loss')\n",
    "plt.xlabel('Epoch')\n",
    "plt.ylabel('Loss')\n",
    "plt.legend()\n",
    "plt.title('Training and Validation Loss')\n",
    "\n",
    "# Plotting the training and validation accuracy\n",
    "plt.subplot(1, 2, 2)\n",
    "plt.plot(train_accuracies, label='Train Accuracy')\n",
    "plt.plot(val_accuracies, label='Validation Accuracy')\n",
    "plt.xlabel('Epoch')\n",
    "plt.ylabel('Accuracy')\n",
    "plt.legend()\n",
    "plt.title('Training and Validation Accuracy')\n",
    "\n",
    "plt.show()"
   ],
   "id": "f62d363f02b784e9",
   "outputs": [
    {
     "name": "stdout",
     "output_type": "stream",
     "text": [
      "Epoch 1: Train Loss: 3.7461 Train Acc: 5.36% Val Loss: 4.4855 Val Acc: 2.22%\n",
      "Epoch 2: Train Loss: 3.4972 Train Acc: 9.41% Val Loss: 4.4720 Val Acc: 1.56%\n",
      "Epoch 3: Train Loss: 3.2892 Train Acc: 13.25% Val Loss: 4.6039 Val Acc: 2.22%\n",
      "Epoch 4: Train Loss: 3.0792 Train Acc: 17.55% Val Loss: 4.4993 Val Acc: 4.89%\n",
      "Epoch 5: Train Loss: 2.8332 Train Acc: 22.42% Val Loss: 4.1665 Val Acc: 6.44%\n",
      "Epoch 6: Train Loss: 2.6367 Train Acc: 26.77% Val Loss: 4.4268 Val Acc: 5.33%\n",
      "Epoch 7: Train Loss: 2.4702 Train Acc: 30.64% Val Loss: 4.4763 Val Acc: 5.33%\n",
      "Epoch 8: Train Loss: 2.3387 Train Acc: 33.57% Val Loss: 4.4664 Val Acc: 9.11%\n",
      "Epoch 9: Train Loss: 2.2209 Train Acc: 36.04% Val Loss: 4.2024 Val Acc: 9.33%\n",
      "Epoch 10: Train Loss: 2.1183 Train Acc: 38.92% Val Loss: 3.7733 Val Acc: 10.44%\n",
      "Epoch 11: Train Loss: 2.0359 Train Acc: 40.73% Val Loss: 3.9856 Val Acc: 11.11%\n",
      "Epoch 12: Train Loss: 1.9617 Train Acc: 42.39% Val Loss: 3.7726 Val Acc: 13.11%\n",
      "Epoch 13: Train Loss: 1.8999 Train Acc: 44.21% Val Loss: 3.4381 Val Acc: 13.78%\n",
      "Epoch 14: Train Loss: 1.8400 Train Acc: 45.52% Val Loss: 3.5963 Val Acc: 13.78%\n",
      "Epoch 15: Train Loss: 1.7875 Train Acc: 46.70% Val Loss: 4.0443 Val Acc: 12.89%\n",
      "Epoch 16: Train Loss: 1.7382 Train Acc: 48.43% Val Loss: 3.7416 Val Acc: 16.00%\n",
      "Epoch 17: Train Loss: 1.6966 Train Acc: 49.29% Val Loss: 3.6386 Val Acc: 14.00%\n",
      "Epoch 18: Train Loss: 1.6647 Train Acc: 49.83% Val Loss: 3.4961 Val Acc: 13.11%\n",
      "Epoch 19: Train Loss: 1.6249 Train Acc: 51.07% Val Loss: 3.8249 Val Acc: 10.67%\n",
      "Epoch 20: Train Loss: 1.5927 Train Acc: 51.85% Val Loss: 3.7505 Val Acc: 14.89%\n",
      "Epoch 21: Train Loss: 1.5743 Train Acc: 52.39% Val Loss: 4.2606 Val Acc: 10.89%\n",
      "Epoch 22: Train Loss: 1.5407 Train Acc: 53.19% Val Loss: 3.5113 Val Acc: 17.56%\n",
      "Epoch 23: Train Loss: 1.5097 Train Acc: 54.04% Val Loss: 3.6929 Val Acc: 15.56%\n",
      "Epoch 24: Train Loss: 1.4930 Train Acc: 54.53% Val Loss: 4.0320 Val Acc: 12.67%\n",
      "Epoch 25: Train Loss: 1.4732 Train Acc: 55.05% Val Loss: 3.6137 Val Acc: 16.00%\n",
      "Epoch 26: Train Loss: 1.4552 Train Acc: 55.75% Val Loss: 3.6116 Val Acc: 17.78%\n",
      "Epoch 27: Train Loss: 1.4384 Train Acc: 55.92% Val Loss: 4.5153 Val Acc: 12.67%\n",
      "Epoch 28: Train Loss: 1.4256 Train Acc: 56.46% Val Loss: 3.6823 Val Acc: 18.44%\n",
      "Epoch 29: Train Loss: 1.4153 Train Acc: 56.60% Val Loss: 3.8979 Val Acc: 13.56%\n",
      "Epoch 30: Train Loss: 1.3967 Train Acc: 56.97% Val Loss: 3.6941 Val Acc: 16.67%\n"
     ]
    },
    {
     "data": {
      "text/plain": [
       "<Figure size 1200x400 with 2 Axes>"
      ],
      "image/png": "[encoded data removed]"
     },
     "metadata": {},
     "output_type": "display_data"
    }
   ],
   "execution_count": 14
  },
  {
   "metadata": {
    "ExecuteTime": {
     "end_time": "2024-06-20T08:42:29.586264Z",
     "start_time": "2024-06-20T08:42:29.410625Z"
    }
   },
   "cell_type": "code",
   "source": [
    "import torchprofile\n",
    "input = torch.randn(4, 3, 64, 64).to(device)\n",
    "# 計算參數數量\n",
    "num_params = count_parameters(dynamic_convolution_model)\n",
    "print(f\"Number of parameters: {num_params}\")\n",
    "\n",
    "# 使用 torchprofile 計算 FLOPs\n",
    "macs = torchprofile.profile_macs(dynamic_convolution_model, input)\n",
    "flops = macs * 2\n",
    "print(f\"FLOPs: {flops}\")\n",
    "\n",
    "input = torch.randn(1, 1, 64, 64).to(device)\n",
    "num_params = count_parameters(m)\n",
    "print(f\"Number of parameters: {num_params}\")\n",
    "\n",
    "# 使用 torchprofile 計算 FLOPs\n",
    "macs = torchprofile.profile_macs(m, input)\n",
    "flops = macs * 2\n",
    "print(f\"FLOPs: {flops}\")"
   ],
   "id": "9f85bfc998d2b285",
   "outputs": [
    {
     "name": "stdout",
     "output_type": "stream",
     "text": [
      "Number of parameters: 11192775\n",
      "FLOPs: 4492505282\n",
      "Number of parameters: 1152\n"
     ]
    },
    {
     "name": "stderr",
     "output_type": "stream",
     "text": [
      "C:\\Users\\sljeng\\anaconda3\\Lib\\site-packages\\torchprofile\\profile.py:22: UserWarning: No handlers found: \"aten::randn\". Skipped.\n",
      "  warnings.warn('No handlers found: \"{}\". Skipped.'.format(\n",
      "C:\\Users\\sljeng\\anaconda3\\Lib\\site-packages\\torchprofile\\profile.py:22: UserWarning: No handlers found: \"aten::uniform_\". Skipped.\n",
      "  warnings.warn('No handlers found: \"{}\". Skipped.'.format(\n",
      "C:\\Users\\sljeng\\anaconda3\\Lib\\site-packages\\torchprofile\\profile.py:22: UserWarning: No handlers found: \"aten::mm\". Skipped.\n",
      "  warnings.warn('No handlers found: \"{}\". Skipped.'.format(\n"
     ]
    },
    {
     "ename": "TypeError",
     "evalue": "Attention.__init__() takes 2 positional arguments but 5 were given",
     "output_type": "error",
     "traceback": [
      "\u001B[1;31m---------------------------------------------------------------------------\u001B[0m",
      "\u001B[1;31mTypeError\u001B[0m                                 Traceback (most recent call last)",
      "Cell \u001B[1;32mIn[87], line 17\u001B[0m\n\u001B[0;32m     14\u001B[0m \u001B[38;5;28mprint\u001B[39m(\u001B[38;5;124mf\u001B[39m\u001B[38;5;124m\"\u001B[39m\u001B[38;5;124mNumber of parameters: \u001B[39m\u001B[38;5;132;01m{\u001B[39;00mnum_params\u001B[38;5;132;01m}\u001B[39;00m\u001B[38;5;124m\"\u001B[39m)\n\u001B[0;32m     16\u001B[0m \u001B[38;5;66;03m# 使用 torchprofile 計算 FLOPs\u001B[39;00m\n\u001B[1;32m---> 17\u001B[0m macs \u001B[38;5;241m=\u001B[39m \u001B[43mtorchprofile\u001B[49m\u001B[38;5;241;43m.\u001B[39;49m\u001B[43mprofile_macs\u001B[49m\u001B[43m(\u001B[49m\u001B[43mm\u001B[49m\u001B[43m,\u001B[49m\u001B[43m \u001B[49m\u001B[38;5;28;43minput\u001B[39;49m\u001B[43m)\u001B[49m\n\u001B[0;32m     18\u001B[0m flops \u001B[38;5;241m=\u001B[39m macs \u001B[38;5;241m*\u001B[39m \u001B[38;5;241m2\u001B[39m\n\u001B[0;32m     19\u001B[0m \u001B[38;5;28mprint\u001B[39m(\u001B[38;5;124mf\u001B[39m\u001B[38;5;124m\"\u001B[39m\u001B[38;5;124mFLOPs: \u001B[39m\u001B[38;5;132;01m{\u001B[39;00mflops\u001B[38;5;132;01m}\u001B[39;00m\u001B[38;5;124m\"\u001B[39m)\n",
      "File \u001B[1;32m~\\anaconda3\\Lib\\site-packages\\torchprofile\\profile.py:12\u001B[0m, in \u001B[0;36mprofile_macs\u001B[1;34m(model, args, kwargs, reduction)\u001B[0m\n\u001B[0;32m      9\u001B[0m \u001B[38;5;28;01mdef\u001B[39;00m \u001B[38;5;21mprofile_macs\u001B[39m(model, args\u001B[38;5;241m=\u001B[39m(), kwargs\u001B[38;5;241m=\u001B[39m\u001B[38;5;28;01mNone\u001B[39;00m, reduction\u001B[38;5;241m=\u001B[39m\u001B[38;5;28msum\u001B[39m):\n\u001B[0;32m     10\u001B[0m     results \u001B[38;5;241m=\u001B[39m \u001B[38;5;28mdict\u001B[39m()\n\u001B[1;32m---> 12\u001B[0m     graph \u001B[38;5;241m=\u001B[39m \u001B[43mtrace\u001B[49m\u001B[43m(\u001B[49m\u001B[43mmodel\u001B[49m\u001B[43m,\u001B[49m\u001B[43m \u001B[49m\u001B[43margs\u001B[49m\u001B[43m,\u001B[49m\u001B[43m \u001B[49m\u001B[43mkwargs\u001B[49m\u001B[43m)\u001B[49m\n\u001B[0;32m     13\u001B[0m     \u001B[38;5;28;01mfor\u001B[39;00m node \u001B[38;5;129;01min\u001B[39;00m graph\u001B[38;5;241m.\u001B[39mnodes:\n\u001B[0;32m     14\u001B[0m         \u001B[38;5;28;01mfor\u001B[39;00m operators, func \u001B[38;5;129;01min\u001B[39;00m handlers:\n",
      "File \u001B[1;32m~\\anaconda3\\Lib\\site-packages\\torchprofile\\utils\\trace.py:17\u001B[0m, in \u001B[0;36mtrace\u001B[1;34m(model, args, kwargs)\u001B[0m\n\u001B[0;32m     13\u001B[0m \u001B[38;5;28;01massert\u001B[39;00m kwargs \u001B[38;5;129;01mis\u001B[39;00m \u001B[38;5;28;01mNone\u001B[39;00m, \u001B[38;5;124m'\u001B[39m\u001B[38;5;124mKeyword arguments are not supported for now. \u001B[39m\u001B[38;5;124m'\u001B[39m \\\n\u001B[0;32m     14\u001B[0m                        \u001B[38;5;124m'\u001B[39m\u001B[38;5;124mPlease use positional arguments instead!\u001B[39m\u001B[38;5;124m'\u001B[39m\n\u001B[0;32m     16\u001B[0m \u001B[38;5;28;01mwith\u001B[39;00m warnings\u001B[38;5;241m.\u001B[39mcatch_warnings(record\u001B[38;5;241m=\u001B[39m\u001B[38;5;28;01mTrue\u001B[39;00m):\n\u001B[1;32m---> 17\u001B[0m     graph, _ \u001B[38;5;241m=\u001B[39m \u001B[43mtorch\u001B[49m\u001B[38;5;241;43m.\u001B[39;49m\u001B[43mjit\u001B[49m\u001B[38;5;241;43m.\u001B[39;49m\u001B[43m_get_trace_graph\u001B[49m\u001B[43m(\u001B[49m\u001B[43mFlatten\u001B[49m\u001B[43m(\u001B[49m\u001B[43mmodel\u001B[49m\u001B[43m)\u001B[49m\u001B[43m,\u001B[49m\u001B[43m \u001B[49m\u001B[43margs\u001B[49m\u001B[43m,\u001B[49m\u001B[43m \u001B[49m\u001B[43mkwargs\u001B[49m\u001B[43m)\u001B[49m\n\u001B[0;32m     19\u001B[0m variables \u001B[38;5;241m=\u001B[39m \u001B[38;5;28mdict\u001B[39m()\n\u001B[0;32m     20\u001B[0m \u001B[38;5;28;01mfor\u001B[39;00m x \u001B[38;5;129;01min\u001B[39;00m graph\u001B[38;5;241m.\u001B[39mnodes():\n",
      "File \u001B[1;32m~\\anaconda3\\Lib\\site-packages\\torch\\jit\\_trace.py:1296\u001B[0m, in \u001B[0;36m_get_trace_graph\u001B[1;34m(f, args, kwargs, strict, _force_outplace, return_inputs, _return_inputs_states)\u001B[0m\n\u001B[0;32m   1294\u001B[0m \u001B[38;5;28;01mif\u001B[39;00m \u001B[38;5;129;01mnot\u001B[39;00m \u001B[38;5;28misinstance\u001B[39m(args, \u001B[38;5;28mtuple\u001B[39m):\n\u001B[0;32m   1295\u001B[0m     args \u001B[38;5;241m=\u001B[39m (args,)\n\u001B[1;32m-> 1296\u001B[0m outs \u001B[38;5;241m=\u001B[39m \u001B[43mONNXTracedModule\u001B[49m\u001B[43m(\u001B[49m\n\u001B[0;32m   1297\u001B[0m \u001B[43m    \u001B[49m\u001B[43mf\u001B[49m\u001B[43m,\u001B[49m\u001B[43m \u001B[49m\u001B[43mstrict\u001B[49m\u001B[43m,\u001B[49m\u001B[43m \u001B[49m\u001B[43m_force_outplace\u001B[49m\u001B[43m,\u001B[49m\u001B[43m \u001B[49m\u001B[43mreturn_inputs\u001B[49m\u001B[43m,\u001B[49m\u001B[43m \u001B[49m\u001B[43m_return_inputs_states\u001B[49m\n\u001B[0;32m   1298\u001B[0m \u001B[43m\u001B[49m\u001B[43m)\u001B[49m\u001B[43m(\u001B[49m\u001B[38;5;241;43m*\u001B[39;49m\u001B[43margs\u001B[49m\u001B[43m,\u001B[49m\u001B[43m \u001B[49m\u001B[38;5;241;43m*\u001B[39;49m\u001B[38;5;241;43m*\u001B[39;49m\u001B[43mkwargs\u001B[49m\u001B[43m)\u001B[49m\n\u001B[0;32m   1299\u001B[0m \u001B[38;5;28;01mreturn\u001B[39;00m outs\n",
      "File \u001B[1;32m~\\anaconda3\\Lib\\site-packages\\torch\\nn\\modules\\module.py:1511\u001B[0m, in \u001B[0;36mModule._wrapped_call_impl\u001B[1;34m(self, *args, **kwargs)\u001B[0m\n\u001B[0;32m   1509\u001B[0m     \u001B[38;5;28;01mreturn\u001B[39;00m \u001B[38;5;28mself\u001B[39m\u001B[38;5;241m.\u001B[39m_compiled_call_impl(\u001B[38;5;241m*\u001B[39margs, \u001B[38;5;241m*\u001B[39m\u001B[38;5;241m*\u001B[39mkwargs)  \u001B[38;5;66;03m# type: ignore[misc]\u001B[39;00m\n\u001B[0;32m   1510\u001B[0m \u001B[38;5;28;01melse\u001B[39;00m:\n\u001B[1;32m-> 1511\u001B[0m     \u001B[38;5;28;01mreturn\u001B[39;00m \u001B[38;5;28;43mself\u001B[39;49m\u001B[38;5;241;43m.\u001B[39;49m\u001B[43m_call_impl\u001B[49m\u001B[43m(\u001B[49m\u001B[38;5;241;43m*\u001B[39;49m\u001B[43margs\u001B[49m\u001B[43m,\u001B[49m\u001B[43m \u001B[49m\u001B[38;5;241;43m*\u001B[39;49m\u001B[38;5;241;43m*\u001B[39;49m\u001B[43mkwargs\u001B[49m\u001B[43m)\u001B[49m\n",
      "File \u001B[1;32m~\\anaconda3\\Lib\\site-packages\\torch\\nn\\modules\\module.py:1520\u001B[0m, in \u001B[0;36mModule._call_impl\u001B[1;34m(self, *args, **kwargs)\u001B[0m\n\u001B[0;32m   1515\u001B[0m \u001B[38;5;66;03m# If we don't have any hooks, we want to skip the rest of the logic in\u001B[39;00m\n\u001B[0;32m   1516\u001B[0m \u001B[38;5;66;03m# this function, and just call forward.\u001B[39;00m\n\u001B[0;32m   1517\u001B[0m \u001B[38;5;28;01mif\u001B[39;00m \u001B[38;5;129;01mnot\u001B[39;00m (\u001B[38;5;28mself\u001B[39m\u001B[38;5;241m.\u001B[39m_backward_hooks \u001B[38;5;129;01mor\u001B[39;00m \u001B[38;5;28mself\u001B[39m\u001B[38;5;241m.\u001B[39m_backward_pre_hooks \u001B[38;5;129;01mor\u001B[39;00m \u001B[38;5;28mself\u001B[39m\u001B[38;5;241m.\u001B[39m_forward_hooks \u001B[38;5;129;01mor\u001B[39;00m \u001B[38;5;28mself\u001B[39m\u001B[38;5;241m.\u001B[39m_forward_pre_hooks\n\u001B[0;32m   1518\u001B[0m         \u001B[38;5;129;01mor\u001B[39;00m _global_backward_pre_hooks \u001B[38;5;129;01mor\u001B[39;00m _global_backward_hooks\n\u001B[0;32m   1519\u001B[0m         \u001B[38;5;129;01mor\u001B[39;00m _global_forward_hooks \u001B[38;5;129;01mor\u001B[39;00m _global_forward_pre_hooks):\n\u001B[1;32m-> 1520\u001B[0m     \u001B[38;5;28;01mreturn\u001B[39;00m \u001B[43mforward_call\u001B[49m\u001B[43m(\u001B[49m\u001B[38;5;241;43m*\u001B[39;49m\u001B[43margs\u001B[49m\u001B[43m,\u001B[49m\u001B[43m \u001B[49m\u001B[38;5;241;43m*\u001B[39;49m\u001B[38;5;241;43m*\u001B[39;49m\u001B[43mkwargs\u001B[49m\u001B[43m)\u001B[49m\n\u001B[0;32m   1522\u001B[0m \u001B[38;5;28;01mtry\u001B[39;00m:\n\u001B[0;32m   1523\u001B[0m     result \u001B[38;5;241m=\u001B[39m \u001B[38;5;28;01mNone\u001B[39;00m\n",
      "File \u001B[1;32m~\\anaconda3\\Lib\\site-packages\\torch\\jit\\_trace.py:138\u001B[0m, in \u001B[0;36mONNXTracedModule.forward\u001B[1;34m(self, *args)\u001B[0m\n\u001B[0;32m    135\u001B[0m     \u001B[38;5;28;01melse\u001B[39;00m:\n\u001B[0;32m    136\u001B[0m         \u001B[38;5;28;01mreturn\u001B[39;00m \u001B[38;5;28mtuple\u001B[39m(out_vars)\n\u001B[1;32m--> 138\u001B[0m graph, out \u001B[38;5;241m=\u001B[39m \u001B[43mtorch\u001B[49m\u001B[38;5;241;43m.\u001B[39;49m\u001B[43m_C\u001B[49m\u001B[38;5;241;43m.\u001B[39;49m\u001B[43m_create_graph_by_tracing\u001B[49m\u001B[43m(\u001B[49m\n\u001B[0;32m    139\u001B[0m \u001B[43m    \u001B[49m\u001B[43mwrapper\u001B[49m\u001B[43m,\u001B[49m\n\u001B[0;32m    140\u001B[0m \u001B[43m    \u001B[49m\u001B[43min_vars\u001B[49m\u001B[43m \u001B[49m\u001B[38;5;241;43m+\u001B[39;49m\u001B[43m \u001B[49m\u001B[43mmodule_state\u001B[49m\u001B[43m,\u001B[49m\n\u001B[0;32m    141\u001B[0m \u001B[43m    \u001B[49m\u001B[43m_create_interpreter_name_lookup_fn\u001B[49m\u001B[43m(\u001B[49m\u001B[43m)\u001B[49m\u001B[43m,\u001B[49m\n\u001B[0;32m    142\u001B[0m \u001B[43m    \u001B[49m\u001B[38;5;28;43mself\u001B[39;49m\u001B[38;5;241;43m.\u001B[39;49m\u001B[43mstrict\u001B[49m\u001B[43m,\u001B[49m\n\u001B[0;32m    143\u001B[0m \u001B[43m    \u001B[49m\u001B[38;5;28;43mself\u001B[39;49m\u001B[38;5;241;43m.\u001B[39;49m\u001B[43m_force_outplace\u001B[49m\u001B[43m,\u001B[49m\n\u001B[0;32m    144\u001B[0m \u001B[43m\u001B[49m\u001B[43m)\u001B[49m\n\u001B[0;32m    146\u001B[0m \u001B[38;5;28;01mif\u001B[39;00m \u001B[38;5;28mself\u001B[39m\u001B[38;5;241m.\u001B[39m_return_inputs:\n\u001B[0;32m    147\u001B[0m     \u001B[38;5;28;01mreturn\u001B[39;00m graph, outs[\u001B[38;5;241m0\u001B[39m], ret_inputs[\u001B[38;5;241m0\u001B[39m]\n",
      "File \u001B[1;32m~\\anaconda3\\Lib\\site-packages\\torch\\jit\\_trace.py:129\u001B[0m, in \u001B[0;36mONNXTracedModule.forward.<locals>.wrapper\u001B[1;34m(*args)\u001B[0m\n\u001B[0;32m    127\u001B[0m \u001B[38;5;28;01mif\u001B[39;00m \u001B[38;5;28mself\u001B[39m\u001B[38;5;241m.\u001B[39m_return_inputs_states:\n\u001B[0;32m    128\u001B[0m     inputs_states\u001B[38;5;241m.\u001B[39mappend(_unflatten(in_args, in_desc))\n\u001B[1;32m--> 129\u001B[0m outs\u001B[38;5;241m.\u001B[39mappend(\u001B[38;5;28;43mself\u001B[39;49m\u001B[38;5;241;43m.\u001B[39;49m\u001B[43minner\u001B[49m\u001B[43m(\u001B[49m\u001B[38;5;241;43m*\u001B[39;49m\u001B[43mtrace_inputs\u001B[49m\u001B[43m)\u001B[49m)\n\u001B[0;32m    130\u001B[0m \u001B[38;5;28;01mif\u001B[39;00m \u001B[38;5;28mself\u001B[39m\u001B[38;5;241m.\u001B[39m_return_inputs_states:\n\u001B[0;32m    131\u001B[0m     inputs_states[\u001B[38;5;241m0\u001B[39m] \u001B[38;5;241m=\u001B[39m (inputs_states[\u001B[38;5;241m0\u001B[39m], trace_inputs)\n",
      "File \u001B[1;32m~\\anaconda3\\Lib\\site-packages\\torch\\nn\\modules\\module.py:1511\u001B[0m, in \u001B[0;36mModule._wrapped_call_impl\u001B[1;34m(self, *args, **kwargs)\u001B[0m\n\u001B[0;32m   1509\u001B[0m     \u001B[38;5;28;01mreturn\u001B[39;00m \u001B[38;5;28mself\u001B[39m\u001B[38;5;241m.\u001B[39m_compiled_call_impl(\u001B[38;5;241m*\u001B[39margs, \u001B[38;5;241m*\u001B[39m\u001B[38;5;241m*\u001B[39mkwargs)  \u001B[38;5;66;03m# type: ignore[misc]\u001B[39;00m\n\u001B[0;32m   1510\u001B[0m \u001B[38;5;28;01melse\u001B[39;00m:\n\u001B[1;32m-> 1511\u001B[0m     \u001B[38;5;28;01mreturn\u001B[39;00m \u001B[38;5;28;43mself\u001B[39;49m\u001B[38;5;241;43m.\u001B[39;49m\u001B[43m_call_impl\u001B[49m\u001B[43m(\u001B[49m\u001B[38;5;241;43m*\u001B[39;49m\u001B[43margs\u001B[49m\u001B[43m,\u001B[49m\u001B[43m \u001B[49m\u001B[38;5;241;43m*\u001B[39;49m\u001B[38;5;241;43m*\u001B[39;49m\u001B[43mkwargs\u001B[49m\u001B[43m)\u001B[49m\n",
      "File \u001B[1;32m~\\anaconda3\\Lib\\site-packages\\torch\\nn\\modules\\module.py:1520\u001B[0m, in \u001B[0;36mModule._call_impl\u001B[1;34m(self, *args, **kwargs)\u001B[0m\n\u001B[0;32m   1515\u001B[0m \u001B[38;5;66;03m# If we don't have any hooks, we want to skip the rest of the logic in\u001B[39;00m\n\u001B[0;32m   1516\u001B[0m \u001B[38;5;66;03m# this function, and just call forward.\u001B[39;00m\n\u001B[0;32m   1517\u001B[0m \u001B[38;5;28;01mif\u001B[39;00m \u001B[38;5;129;01mnot\u001B[39;00m (\u001B[38;5;28mself\u001B[39m\u001B[38;5;241m.\u001B[39m_backward_hooks \u001B[38;5;129;01mor\u001B[39;00m \u001B[38;5;28mself\u001B[39m\u001B[38;5;241m.\u001B[39m_backward_pre_hooks \u001B[38;5;129;01mor\u001B[39;00m \u001B[38;5;28mself\u001B[39m\u001B[38;5;241m.\u001B[39m_forward_hooks \u001B[38;5;129;01mor\u001B[39;00m \u001B[38;5;28mself\u001B[39m\u001B[38;5;241m.\u001B[39m_forward_pre_hooks\n\u001B[0;32m   1518\u001B[0m         \u001B[38;5;129;01mor\u001B[39;00m _global_backward_pre_hooks \u001B[38;5;129;01mor\u001B[39;00m _global_backward_hooks\n\u001B[0;32m   1519\u001B[0m         \u001B[38;5;129;01mor\u001B[39;00m _global_forward_hooks \u001B[38;5;129;01mor\u001B[39;00m _global_forward_pre_hooks):\n\u001B[1;32m-> 1520\u001B[0m     \u001B[38;5;28;01mreturn\u001B[39;00m \u001B[43mforward_call\u001B[49m\u001B[43m(\u001B[49m\u001B[38;5;241;43m*\u001B[39;49m\u001B[43margs\u001B[49m\u001B[43m,\u001B[49m\u001B[43m \u001B[49m\u001B[38;5;241;43m*\u001B[39;49m\u001B[38;5;241;43m*\u001B[39;49m\u001B[43mkwargs\u001B[49m\u001B[43m)\u001B[49m\n\u001B[0;32m   1522\u001B[0m \u001B[38;5;28;01mtry\u001B[39;00m:\n\u001B[0;32m   1523\u001B[0m     result \u001B[38;5;241m=\u001B[39m \u001B[38;5;28;01mNone\u001B[39;00m\n",
      "File \u001B[1;32m~\\anaconda3\\Lib\\site-packages\\torch\\nn\\modules\\module.py:1501\u001B[0m, in \u001B[0;36mModule._slow_forward\u001B[1;34m(self, *input, **kwargs)\u001B[0m\n\u001B[0;32m   1499\u001B[0m         recording_scopes \u001B[38;5;241m=\u001B[39m \u001B[38;5;28;01mFalse\u001B[39;00m\n\u001B[0;32m   1500\u001B[0m \u001B[38;5;28;01mtry\u001B[39;00m:\n\u001B[1;32m-> 1501\u001B[0m     result \u001B[38;5;241m=\u001B[39m \u001B[38;5;28;43mself\u001B[39;49m\u001B[38;5;241;43m.\u001B[39;49m\u001B[43mforward\u001B[49m\u001B[43m(\u001B[49m\u001B[38;5;241;43m*\u001B[39;49m\u001B[38;5;28;43minput\u001B[39;49m\u001B[43m,\u001B[49m\u001B[43m \u001B[49m\u001B[38;5;241;43m*\u001B[39;49m\u001B[38;5;241;43m*\u001B[39;49m\u001B[43mkwargs\u001B[49m\u001B[43m)\u001B[49m\n\u001B[0;32m   1502\u001B[0m \u001B[38;5;28;01mfinally\u001B[39;00m:\n\u001B[0;32m   1503\u001B[0m     \u001B[38;5;28;01mif\u001B[39;00m recording_scopes:\n",
      "File \u001B[1;32m~\\anaconda3\\Lib\\site-packages\\torchprofile\\utils\\flatten.py:29\u001B[0m, in \u001B[0;36mFlatten.forward\u001B[1;34m(self, *args, **kwargs)\u001B[0m\n\u001B[0;32m     28\u001B[0m \u001B[38;5;28;01mdef\u001B[39;00m \u001B[38;5;21mforward\u001B[39m(\u001B[38;5;28mself\u001B[39m, \u001B[38;5;241m*\u001B[39margs, \u001B[38;5;241m*\u001B[39m\u001B[38;5;241m*\u001B[39mkwargs):\n\u001B[1;32m---> 29\u001B[0m     outputs \u001B[38;5;241m=\u001B[39m \u001B[38;5;28;43mself\u001B[39;49m\u001B[38;5;241;43m.\u001B[39;49m\u001B[43mmodel\u001B[49m\u001B[43m(\u001B[49m\u001B[38;5;241;43m*\u001B[39;49m\u001B[43margs\u001B[49m\u001B[43m,\u001B[49m\u001B[43m \u001B[49m\u001B[38;5;241;43m*\u001B[39;49m\u001B[38;5;241;43m*\u001B[39;49m\u001B[43mkwargs\u001B[49m\u001B[43m)\u001B[49m\n\u001B[0;32m     30\u001B[0m     \u001B[38;5;28;01mreturn\u001B[39;00m flatten(outputs)\n",
      "File \u001B[1;32m~\\anaconda3\\Lib\\site-packages\\torch\\nn\\modules\\module.py:1511\u001B[0m, in \u001B[0;36mModule._wrapped_call_impl\u001B[1;34m(self, *args, **kwargs)\u001B[0m\n\u001B[0;32m   1509\u001B[0m     \u001B[38;5;28;01mreturn\u001B[39;00m \u001B[38;5;28mself\u001B[39m\u001B[38;5;241m.\u001B[39m_compiled_call_impl(\u001B[38;5;241m*\u001B[39margs, \u001B[38;5;241m*\u001B[39m\u001B[38;5;241m*\u001B[39mkwargs)  \u001B[38;5;66;03m# type: ignore[misc]\u001B[39;00m\n\u001B[0;32m   1510\u001B[0m \u001B[38;5;28;01melse\u001B[39;00m:\n\u001B[1;32m-> 1511\u001B[0m     \u001B[38;5;28;01mreturn\u001B[39;00m \u001B[38;5;28;43mself\u001B[39;49m\u001B[38;5;241;43m.\u001B[39;49m\u001B[43m_call_impl\u001B[49m\u001B[43m(\u001B[49m\u001B[38;5;241;43m*\u001B[39;49m\u001B[43margs\u001B[49m\u001B[43m,\u001B[49m\u001B[43m \u001B[49m\u001B[38;5;241;43m*\u001B[39;49m\u001B[38;5;241;43m*\u001B[39;49m\u001B[43mkwargs\u001B[49m\u001B[43m)\u001B[49m\n",
      "File \u001B[1;32m~\\anaconda3\\Lib\\site-packages\\torch\\nn\\modules\\module.py:1520\u001B[0m, in \u001B[0;36mModule._call_impl\u001B[1;34m(self, *args, **kwargs)\u001B[0m\n\u001B[0;32m   1515\u001B[0m \u001B[38;5;66;03m# If we don't have any hooks, we want to skip the rest of the logic in\u001B[39;00m\n\u001B[0;32m   1516\u001B[0m \u001B[38;5;66;03m# this function, and just call forward.\u001B[39;00m\n\u001B[0;32m   1517\u001B[0m \u001B[38;5;28;01mif\u001B[39;00m \u001B[38;5;129;01mnot\u001B[39;00m (\u001B[38;5;28mself\u001B[39m\u001B[38;5;241m.\u001B[39m_backward_hooks \u001B[38;5;129;01mor\u001B[39;00m \u001B[38;5;28mself\u001B[39m\u001B[38;5;241m.\u001B[39m_backward_pre_hooks \u001B[38;5;129;01mor\u001B[39;00m \u001B[38;5;28mself\u001B[39m\u001B[38;5;241m.\u001B[39m_forward_hooks \u001B[38;5;129;01mor\u001B[39;00m \u001B[38;5;28mself\u001B[39m\u001B[38;5;241m.\u001B[39m_forward_pre_hooks\n\u001B[0;32m   1518\u001B[0m         \u001B[38;5;129;01mor\u001B[39;00m _global_backward_pre_hooks \u001B[38;5;129;01mor\u001B[39;00m _global_backward_hooks\n\u001B[0;32m   1519\u001B[0m         \u001B[38;5;129;01mor\u001B[39;00m _global_forward_hooks \u001B[38;5;129;01mor\u001B[39;00m _global_forward_pre_hooks):\n\u001B[1;32m-> 1520\u001B[0m     \u001B[38;5;28;01mreturn\u001B[39;00m \u001B[43mforward_call\u001B[49m\u001B[43m(\u001B[49m\u001B[38;5;241;43m*\u001B[39;49m\u001B[43margs\u001B[49m\u001B[43m,\u001B[49m\u001B[43m \u001B[49m\u001B[38;5;241;43m*\u001B[39;49m\u001B[38;5;241;43m*\u001B[39;49m\u001B[43mkwargs\u001B[49m\u001B[43m)\u001B[49m\n\u001B[0;32m   1522\u001B[0m \u001B[38;5;28;01mtry\u001B[39;00m:\n\u001B[0;32m   1523\u001B[0m     result \u001B[38;5;241m=\u001B[39m \u001B[38;5;28;01mNone\u001B[39;00m\n",
      "File \u001B[1;32m~\\anaconda3\\Lib\\site-packages\\torch\\nn\\modules\\module.py:1501\u001B[0m, in \u001B[0;36mModule._slow_forward\u001B[1;34m(self, *input, **kwargs)\u001B[0m\n\u001B[0;32m   1499\u001B[0m         recording_scopes \u001B[38;5;241m=\u001B[39m \u001B[38;5;28;01mFalse\u001B[39;00m\n\u001B[0;32m   1500\u001B[0m \u001B[38;5;28;01mtry\u001B[39;00m:\n\u001B[1;32m-> 1501\u001B[0m     result \u001B[38;5;241m=\u001B[39m \u001B[38;5;28;43mself\u001B[39;49m\u001B[38;5;241;43m.\u001B[39;49m\u001B[43mforward\u001B[49m\u001B[43m(\u001B[49m\u001B[38;5;241;43m*\u001B[39;49m\u001B[38;5;28;43minput\u001B[39;49m\u001B[43m,\u001B[49m\u001B[43m \u001B[49m\u001B[38;5;241;43m*\u001B[39;49m\u001B[38;5;241;43m*\u001B[39;49m\u001B[43mkwargs\u001B[49m\u001B[43m)\u001B[49m\n\u001B[0;32m   1502\u001B[0m \u001B[38;5;28;01mfinally\u001B[39;00m:\n\u001B[0;32m   1503\u001B[0m     \u001B[38;5;28;01mif\u001B[39;00m recording_scopes:\n",
      "Cell \u001B[1;32mIn[10], line 63\u001B[0m, in \u001B[0;36mVariableInputConv.forward\u001B[1;34m(self, x)\u001B[0m\n\u001B[0;32m     61\u001B[0m \u001B[38;5;66;03m# 動態初始化或更新 Attention 模塊\u001B[39;00m\n\u001B[0;32m     62\u001B[0m \u001B[38;5;28;01mif\u001B[39;00m \u001B[38;5;28mself\u001B[39m\u001B[38;5;241m.\u001B[39mattention \u001B[38;5;129;01mis\u001B[39;00m \u001B[38;5;28;01mNone\u001B[39;00m \u001B[38;5;129;01mor\u001B[39;00m \u001B[38;5;28mself\u001B[39m\u001B[38;5;241m.\u001B[39mattention\u001B[38;5;241m.\u001B[39min_planes \u001B[38;5;241m!=\u001B[39m in_planes:\n\u001B[1;32m---> 63\u001B[0m     \u001B[38;5;28mself\u001B[39m\u001B[38;5;241m.\u001B[39mattention \u001B[38;5;241m=\u001B[39m \u001B[43mAttention\u001B[49m\u001B[43m(\u001B[49m\u001B[43min_planes\u001B[49m\u001B[43m,\u001B[49m\u001B[43m \u001B[49m\u001B[38;5;28;43mself\u001B[39;49m\u001B[38;5;241;43m.\u001B[39;49m\u001B[43mratio\u001B[49m\u001B[43m,\u001B[49m\u001B[43m \u001B[49m\u001B[38;5;28;43mself\u001B[39;49m\u001B[38;5;241;43m.\u001B[39;49m\u001B[43mK\u001B[49m\u001B[43m,\u001B[49m\u001B[43m \u001B[49m\u001B[38;5;28;43mself\u001B[39;49m\u001B[38;5;241;43m.\u001B[39;49m\u001B[43mtemprature\u001B[49m\u001B[43m)\u001B[49m\u001B[38;5;241m.\u001B[39mto(device)  \u001B[38;5;66;03m# 確保 Attention 在正確的設備上\u001B[39;00m\n\u001B[0;32m     65\u001B[0m \u001B[38;5;66;03m# 確保 Attention 模塊的所有參數在正確的設備上\u001B[39;00m\n\u001B[0;32m     66\u001B[0m \u001B[38;5;28mself\u001B[39m\u001B[38;5;241m.\u001B[39mattention\u001B[38;5;241m.\u001B[39mto(device)\n",
      "\u001B[1;31mTypeError\u001B[0m: Attention.__init__() takes 2 positional arguments but 5 were given"
     ]
    }
   ],
   "execution_count": 87
  },
  {
   "metadata": {
    "ExecuteTime": {
     "end_time": "2024-06-20T01:55:07.644305Z",
     "start_time": "2024-06-20T01:55:06.584428Z"
    }
   },
   "cell_type": "code",
   "source": [
    "dynamic_convolution_model.eval()\n",
    "correct = 0\n",
    "total = 0\n",
    "with torch.no_grad():\n",
    "    for inputs, labels in t_loader_R:\n",
    "        outputs = dynamic_convolution_model(inputs)\n",
    "        _, predicted = torch.max(outputs, 1)\n",
    "        total += labels.size(0)\n",
    "        correct += (predicted == labels).sum().item()\n",
    "\n",
    "# Print loss and accuracy\n",
    "print(f\"Accuracy of the network on the R test images: {100 * correct / total}%\")\n",
    "\n",
    "with torch.no_grad():\n",
    "    for inputs, labels in t_loader_G:\n",
    "        outputs = dynamic_convolution_model(inputs)\n",
    "        _, predicted = torch.max(outputs, 1)\n",
    "        total += labels.size(0)\n",
    "        correct += (predicted == labels).sum().item()\n",
    "\n",
    "# Print loss and accuracy\n",
    "print(f\"Accuracy of the network on the G test images: {100 * correct / total}%\")\n",
    "\n",
    "with torch.no_grad():\n",
    "    for inputs, labels in t_loader_B:\n",
    "        outputs = dynamic_convolution_model(inputs)\n",
    "        _, predicted = torch.max(outputs, 1)\n",
    "        total += labels.size(0)\n",
    "        correct += (predicted == labels).sum().item()\n",
    "\n",
    "# Print loss and accuracy\n",
    "print(f\"Accuracy of the network on the B test images: {100 * correct / total}%\")\n",
    "\n",
    "with torch.no_grad():\n",
    "    for inputs, labels in t_loader_RG:\n",
    "        outputs = dynamic_convolution_model(inputs)\n",
    "        _, predicted = torch.max(outputs, 1)\n",
    "        total += labels.size(0)\n",
    "        correct += (predicted == labels).sum().item()\n",
    "\n",
    "# Print loss and accuracy\n",
    "print(f\"Accuracy of the network on the RG test images: {100 * correct / total}%\")\n",
    "\n",
    "with torch.no_grad():\n",
    "    for inputs, labels in t_loader_RB:\n",
    "        outputs = dynamic_convolution_model(inputs)\n",
    "        _, predicted = torch.max(outputs, 1)\n",
    "        total += labels.size(0)\n",
    "        correct += (predicted == labels).sum().item()\n",
    "\n",
    "# Print loss and accuracy\n",
    "print(f\"Accuracy of the network on the RB test images: {100 * correct / total}%\")\n",
    "\n",
    "with torch.no_grad():\n",
    "    for inputs, labels in t_loader_GB:\n",
    "        outputs = dynamic_convolution_model(inputs)\n",
    "        _, predicted = torch.max(outputs, 1)\n",
    "        total += labels.size(0)\n",
    "        correct += (predicted == labels).sum().item()\n",
    "\n",
    "# Print loss and accuracy\n",
    "print(f\"Accuracy of the network on the GB test images: {100 * correct / total}%\")\n",
    "\n",
    "with torch.no_grad():\n",
    "    for inputs, labels in t_loader:\n",
    "        outputs = dynamic_convolution_model(inputs)\n",
    "        _, predicted = torch.max(outputs, 1)\n",
    "        total += labels.size(0)\n",
    "        correct += (predicted == labels).sum().item()\n",
    "\n",
    "# Print loss and accuracy\n",
    "print(f\"Accuracy of the network on the RGB test images: {100 * correct / total}%\")"
   ],
   "id": "b127dcfe99075b08",
   "outputs": [
    {
     "name": "stdout",
     "output_type": "stream",
     "text": [
      "Accuracy of the network on the R test images: 18.666666666666668%\n",
      "Accuracy of the network on the G test images: 16.666666666666668%\n",
      "Accuracy of the network on the B test images: 15.703703703703704%\n",
      "Accuracy of the network on the RG test images: 16.055555555555557%\n",
      "Accuracy of the network on the RB test images: 15.6%\n",
      "Accuracy of the network on the GB test images: 15.222222222222221%\n",
      "Accuracy of the network on the RGB test images: 14.603174603174603%\n"
     ]
    }
   ],
   "execution_count": 43
  },
  {
   "metadata": {},
   "cell_type": "markdown",
   "source": "# Problem 2.",
   "id": "49f593dafe5af393"
  },
  {
   "metadata": {},
   "cell_type": "markdown",
   "source": "# ResNet34 As Base Model",
   "id": "1e4050049f0f2c00"
  },
  {
   "metadata": {
    "ExecuteTime": {
     "end_time": "2024-06-20T07:47:52.973630Z",
     "start_time": "2024-06-20T07:47:52.789423Z"
    }
   },
   "cell_type": "code",
   "source": [
    "import torch\n",
    "import torch.nn as nn\n",
    "import torch.nn.functional as F\n",
    "import torch.optim as optim\n",
    "\n",
    "class BasicBlock(nn.Module):\n",
    "    expansion = 1\n",
    "\n",
    "    def __init__(self, in_channels, out_channels, stride=1, downsample=None):\n",
    "        super(BasicBlock, self).__init__()\n",
    "        self.conv1 = nn.Conv2d(in_channels, out_channels, kernel_size=3, stride=stride, padding=1, bias=False)\n",
    "        self.bn1 = nn.BatchNorm2d(out_channels)\n",
    "        self.conv2 = nn.Conv2d(out_channels, out_channels, kernel_size=3, padding=1, bias=False)\n",
    "        self.bn2 = nn.BatchNorm2d(out_channels)\n",
    "        self.downsample = downsample\n",
    "\n",
    "    def forward(self, x):\n",
    "        identity = x\n",
    "\n",
    "        out = self.conv1(x)\n",
    "        out = self.bn1(out)\n",
    "        out = F.relu(out)\n",
    "\n",
    "        out = self.conv2(out)\n",
    "        out = self.bn2(out)\n",
    "\n",
    "        if self.downsample is not None:\n",
    "            identity = self.downsample(x)\n",
    "\n",
    "        out += identity\n",
    "        out = F.relu(out)\n",
    "\n",
    "        return out\n",
    "\n",
    "class ResNet(nn.Module):\n",
    "    def __init__(self, block, layers, num_classes=50):\n",
    "        super(ResNet, self).__init__()\n",
    "        self.in_channels = 64\n",
    "        self.conv1 = nn.Conv2d(3, 64, kernel_size=7, stride=2, padding=3, bias=False)\n",
    "        self.bn1 = nn.BatchNorm2d(64)\n",
    "        self.maxpool = nn.MaxPool2d(kernel_size=3, stride=2, padding=1)\n",
    "        self.layer1 = self._make_layer(block, 64, layers[0])\n",
    "        self.layer2 = self._make_layer(block, 128, layers[1], stride=2)\n",
    "        self.layer3 = self._make_layer(block, 256, layers[2], stride=2)\n",
    "        self.layer4 = self._make_layer(block, 512, layers[3], stride=2)\n",
    "        self.avgpool = nn.AdaptiveAvgPool2d((1, 1))\n",
    "        self.fc = nn.Linear(512 * block.expansion, num_classes)\n",
    "\n",
    "        for m in self.modules():\n",
    "            if isinstance(m, nn.Conv2d):\n",
    "                nn.init.kaiming_normal_(m.weight, mode='fan_out', nonlinearity='relu')\n",
    "            elif isinstance(m, nn.BatchNorm2d):\n",
    "                nn.init.constant_(m.weight, 1)\n",
    "                nn.init.constant_(m.bias, 0)\n",
    "\n",
    "    def _make_layer(self, block, out_channels, blocks, stride=1):\n",
    "        downsample = None\n",
    "        if stride != 1 or self.in_channels != out_channels * block.expansion:\n",
    "            downsample = nn.Sequential(\n",
    "                nn.Conv2d(self.in_channels, out_channels * block.expansion, kernel_size=1, stride=stride, bias=False),\n",
    "                nn.BatchNorm2d(out_channels * block.expansion),\n",
    "            )\n",
    "\n",
    "        layers = []\n",
    "        layers.append(block(self.in_channels, out_channels, stride, downsample))\n",
    "        self.in_channels = out_channels * block.expansion\n",
    "        for _ in range(1, blocks):\n",
    "            layers.append(block(self.in_channels, out_channels))\n",
    "\n",
    "        return nn.Sequential(*layers)\n",
    "\n",
    "    def forward(self, x):\n",
    "        x = self.conv1(x)\n",
    "        x = self.bn1(x)\n",
    "        x = F.relu(x)\n",
    "        x = self.maxpool(x)\n",
    "\n",
    "        x = self.layer1(x)\n",
    "        x = self.layer2(x)\n",
    "        x = self.layer3(x)\n",
    "        x = self.layer4(x)\n",
    "\n",
    "        x = self.avgpool(x)\n",
    "        x = torch.flatten(x, 1)\n",
    "        x = self.fc(x)\n",
    "\n",
    "        return x\n",
    "\n",
    "def resnet34(num_classes=50):\n",
    "    return ResNet(BasicBlock, [3, 4, 6, 3], num_classes)\n",
    "\n",
    "# base model\n",
    "base_model = resnet34(num_classes=50)\n",
    "print(base_model)\n",
    "device = torch.device(\"cuda\" if torch.cuda.is_available() else \"cpu\")\n",
    "print(\"Using device:\", device)\n",
    "base_model.to(device)\n",
    "criterion = nn.CrossEntropyLoss()\n",
    "optimizer = optim.Adam(base_model.parameters(), lr=0.001)"
   ],
   "id": "21456f7bf212c6d",
   "outputs": [
    {
     "name": "stdout",
     "output_type": "stream",
     "text": [
      "ResNet(\n",
      "  (conv1): Conv2d(3, 64, kernel_size=(7, 7), stride=(2, 2), padding=(3, 3), bias=False)\n",
      "  (bn1): BatchNorm2d(64, eps=1e-05, momentum=0.1, affine=True, track_running_stats=True)\n",
      "  (maxpool): MaxPool2d(kernel_size=3, stride=2, padding=1, dilation=1, ceil_mode=False)\n",
      "  (layer1): Sequential(\n",
      "    (0): BasicBlock(\n",
      "      (conv1): Conv2d(64, 64, kernel_size=(3, 3), stride=(1, 1), padding=(1, 1), bias=False)\n",
      "      (bn1): BatchNorm2d(64, eps=1e-05, momentum=0.1, affine=True, track_running_stats=True)\n",
      "      (conv2): Conv2d(64, 64, kernel_size=(3, 3), stride=(1, 1), padding=(1, 1), bias=False)\n",
      "      (bn2): BatchNorm2d(64, eps=1e-05, momentum=0.1, affine=True, track_running_stats=True)\n",
      "    )\n",
      "    (1): BasicBlock(\n",
      "      (conv1): Conv2d(64, 64, kernel_size=(3, 3), stride=(1, 1), padding=(1, 1), bias=False)\n",
      "      (bn1): BatchNorm2d(64, eps=1e-05, momentum=0.1, affine=True, track_running_stats=True)\n",
      "      (conv2): Conv2d(64, 64, kernel_size=(3, 3), stride=(1, 1), padding=(1, 1), bias=False)\n",
      "      (bn2): BatchNorm2d(64, eps=1e-05, momentum=0.1, affine=True, track_running_stats=True)\n",
      "    )\n",
      "    (2): BasicBlock(\n",
      "      (conv1): Conv2d(64, 64, kernel_size=(3, 3), stride=(1, 1), padding=(1, 1), bias=False)\n",
      "      (bn1): BatchNorm2d(64, eps=1e-05, momentum=0.1, affine=True, track_running_stats=True)\n",
      "      (conv2): Conv2d(64, 64, kernel_size=(3, 3), stride=(1, 1), padding=(1, 1), bias=False)\n",
      "      (bn2): BatchNorm2d(64, eps=1e-05, momentum=0.1, affine=True, track_running_stats=True)\n",
      "    )\n",
      "  )\n",
      "  (layer2): Sequential(\n",
      "    (0): BasicBlock(\n",
      "      (conv1): Conv2d(64, 128, kernel_size=(3, 3), stride=(2, 2), padding=(1, 1), bias=False)\n",
      "      (bn1): BatchNorm2d(128, eps=1e-05, momentum=0.1, affine=True, track_running_stats=True)\n",
      "      (conv2): Conv2d(128, 128, kernel_size=(3, 3), stride=(1, 1), padding=(1, 1), bias=False)\n",
      "      (bn2): BatchNorm2d(128, eps=1e-05, momentum=0.1, affine=True, track_running_stats=True)\n",
      "      (downsample): Sequential(\n",
      "        (0): Conv2d(64, 128, kernel_size=(1, 1), stride=(2, 2), bias=False)\n",
      "        (1): BatchNorm2d(128, eps=1e-05, momentum=0.1, affine=True, track_running_stats=True)\n",
      "      )\n",
      "    )\n",
      "    (1): BasicBlock(\n",
      "      (conv1): Conv2d(128, 128, kernel_size=(3, 3), stride=(1, 1), padding=(1, 1), bias=False)\n",
      "      (bn1): BatchNorm2d(128, eps=1e-05, momentum=0.1, affine=True, track_running_stats=True)\n",
      "      (conv2): Conv2d(128, 128, kernel_size=(3, 3), stride=(1, 1), padding=(1, 1), bias=False)\n",
      "      (bn2): BatchNorm2d(128, eps=1e-05, momentum=0.1, affine=True, track_running_stats=True)\n",
      "    )\n",
      "    (2): BasicBlock(\n",
      "      (conv1): Conv2d(128, 128, kernel_size=(3, 3), stride=(1, 1), padding=(1, 1), bias=False)\n",
      "      (bn1): BatchNorm2d(128, eps=1e-05, momentum=0.1, affine=True, track_running_stats=True)\n",
      "      (conv2): Conv2d(128, 128, kernel_size=(3, 3), stride=(1, 1), padding=(1, 1), bias=False)\n",
      "      (bn2): BatchNorm2d(128, eps=1e-05, momentum=0.1, affine=True, track_running_stats=True)\n",
      "    )\n",
      "    (3): BasicBlock(\n",
      "      (conv1): Conv2d(128, 128, kernel_size=(3, 3), stride=(1, 1), padding=(1, 1), bias=False)\n",
      "      (bn1): BatchNorm2d(128, eps=1e-05, momentum=0.1, affine=True, track_running_stats=True)\n",
      "      (conv2): Conv2d(128, 128, kernel_size=(3, 3), stride=(1, 1), padding=(1, 1), bias=False)\n",
      "      (bn2): BatchNorm2d(128, eps=1e-05, momentum=0.1, affine=True, track_running_stats=True)\n",
      "    )\n",
      "  )\n",
      "  (layer3): Sequential(\n",
      "    (0): BasicBlock(\n",
      "      (conv1): Conv2d(128, 256, kernel_size=(3, 3), stride=(2, 2), padding=(1, 1), bias=False)\n",
      "      (bn1): BatchNorm2d(256, eps=1e-05, momentum=0.1, affine=True, track_running_stats=True)\n",
      "      (conv2): Conv2d(256, 256, kernel_size=(3, 3), stride=(1, 1), padding=(1, 1), bias=False)\n",
      "      (bn2): BatchNorm2d(256, eps=1e-05, momentum=0.1, affine=True, track_running_stats=True)\n",
      "      (downsample): Sequential(\n",
      "        (0): Conv2d(128, 256, kernel_size=(1, 1), stride=(2, 2), bias=False)\n",
      "        (1): BatchNorm2d(256, eps=1e-05, momentum=0.1, affine=True, track_running_stats=True)\n",
      "      )\n",
      "    )\n",
      "    (1): BasicBlock(\n",
      "      (conv1): Conv2d(256, 256, kernel_size=(3, 3), stride=(1, 1), padding=(1, 1), bias=False)\n",
      "      (bn1): BatchNorm2d(256, eps=1e-05, momentum=0.1, affine=True, track_running_stats=True)\n",
      "      (conv2): Conv2d(256, 256, kernel_size=(3, 3), stride=(1, 1), padding=(1, 1), bias=False)\n",
      "      (bn2): BatchNorm2d(256, eps=1e-05, momentum=0.1, affine=True, track_running_stats=True)\n",
      "    )\n",
      "    (2): BasicBlock(\n",
      "      (conv1): Conv2d(256, 256, kernel_size=(3, 3), stride=(1, 1), padding=(1, 1), bias=False)\n",
      "      (bn1): BatchNorm2d(256, eps=1e-05, momentum=0.1, affine=True, track_running_stats=True)\n",
      "      (conv2): Conv2d(256, 256, kernel_size=(3, 3), stride=(1, 1), padding=(1, 1), bias=False)\n",
      "      (bn2): BatchNorm2d(256, eps=1e-05, momentum=0.1, affine=True, track_running_stats=True)\n",
      "    )\n",
      "    (3): BasicBlock(\n",
      "      (conv1): Conv2d(256, 256, kernel_size=(3, 3), stride=(1, 1), padding=(1, 1), bias=False)\n",
      "      (bn1): BatchNorm2d(256, eps=1e-05, momentum=0.1, affine=True, track_running_stats=True)\n",
      "      (conv2): Conv2d(256, 256, kernel_size=(3, 3), stride=(1, 1), padding=(1, 1), bias=False)\n",
      "      (bn2): BatchNorm2d(256, eps=1e-05, momentum=0.1, affine=True, track_running_stats=True)\n",
      "    )\n",
      "    (4): BasicBlock(\n",
      "      (conv1): Conv2d(256, 256, kernel_size=(3, 3), stride=(1, 1), padding=(1, 1), bias=False)\n",
      "      (bn1): BatchNorm2d(256, eps=1e-05, momentum=0.1, affine=True, track_running_stats=True)\n",
      "      (conv2): Conv2d(256, 256, kernel_size=(3, 3), stride=(1, 1), padding=(1, 1), bias=False)\n",
      "      (bn2): BatchNorm2d(256, eps=1e-05, momentum=0.1, affine=True, track_running_stats=True)\n",
      "    )\n",
      "    (5): BasicBlock(\n",
      "      (conv1): Conv2d(256, 256, kernel_size=(3, 3), stride=(1, 1), padding=(1, 1), bias=False)\n",
      "      (bn1): BatchNorm2d(256, eps=1e-05, momentum=0.1, affine=True, track_running_stats=True)\n",
      "      (conv2): Conv2d(256, 256, kernel_size=(3, 3), stride=(1, 1), padding=(1, 1), bias=False)\n",
      "      (bn2): BatchNorm2d(256, eps=1e-05, momentum=0.1, affine=True, track_running_stats=True)\n",
      "    )\n",
      "  )\n",
      "  (layer4): Sequential(\n",
      "    (0): BasicBlock(\n",
      "      (conv1): Conv2d(256, 512, kernel_size=(3, 3), stride=(2, 2), padding=(1, 1), bias=False)\n",
      "      (bn1): BatchNorm2d(512, eps=1e-05, momentum=0.1, affine=True, track_running_stats=True)\n",
      "      (conv2): Conv2d(512, 512, kernel_size=(3, 3), stride=(1, 1), padding=(1, 1), bias=False)\n",
      "      (bn2): BatchNorm2d(512, eps=1e-05, momentum=0.1, affine=True, track_running_stats=True)\n",
      "      (downsample): Sequential(\n",
      "        (0): Conv2d(256, 512, kernel_size=(1, 1), stride=(2, 2), bias=False)\n",
      "        (1): BatchNorm2d(512, eps=1e-05, momentum=0.1, affine=True, track_running_stats=True)\n",
      "      )\n",
      "    )\n",
      "    (1): BasicBlock(\n",
      "      (conv1): Conv2d(512, 512, kernel_size=(3, 3), stride=(1, 1), padding=(1, 1), bias=False)\n",
      "      (bn1): BatchNorm2d(512, eps=1e-05, momentum=0.1, affine=True, track_running_stats=True)\n",
      "      (conv2): Conv2d(512, 512, kernel_size=(3, 3), stride=(1, 1), padding=(1, 1), bias=False)\n",
      "      (bn2): BatchNorm2d(512, eps=1e-05, momentum=0.1, affine=True, track_running_stats=True)\n",
      "    )\n",
      "    (2): BasicBlock(\n",
      "      (conv1): Conv2d(512, 512, kernel_size=(3, 3), stride=(1, 1), padding=(1, 1), bias=False)\n",
      "      (bn1): BatchNorm2d(512, eps=1e-05, momentum=0.1, affine=True, track_running_stats=True)\n",
      "      (conv2): Conv2d(512, 512, kernel_size=(3, 3), stride=(1, 1), padding=(1, 1), bias=False)\n",
      "      (bn2): BatchNorm2d(512, eps=1e-05, momentum=0.1, affine=True, track_running_stats=True)\n",
      "    )\n",
      "  )\n",
      "  (avgpool): AdaptiveAvgPool2d(output_size=(1, 1))\n",
      "  (fc): Linear(in_features=512, out_features=50, bias=True)\n",
      ")\n",
      "Using device: cuda\n"
     ]
    }
   ],
   "execution_count": 44
  },
  {
   "metadata": {
    "ExecuteTime": {
     "end_time": "2024-06-20T08:07:55.329272Z",
     "start_time": "2024-06-20T07:52:08.146263Z"
    }
   },
   "cell_type": "code",
   "source": [
    "# Training loop\n",
    "train_losses = []\n",
    "val_losses = []\n",
    "train_accuracies = []\n",
    "val_accuracies = []\n",
    "num_epochs = 30\n",
    "for epoch in range(num_epochs):\n",
    "    base_model.train()\n",
    "    running_loss = 0.0\n",
    "    correct = 0\n",
    "    total = 0\n",
    "    for inputs, labels in train_loader:\n",
    "        optimizer.zero_grad()\n",
    "        outputs = base_model(inputs)\n",
    "        loss = criterion(outputs, labels)\n",
    "        loss.backward()\n",
    "        optimizer.step()\n",
    "        running_loss += loss.item()\n",
    "        val_loss += loss.item() * inputs.size(0)\n",
    "        _, predicted = torch.max(outputs, 1)\n",
    "        total += labels.size(0)\n",
    "        correct += (predicted == labels).sum().item()\n",
    "        \n",
    "    epoch_loss = running_loss / total\n",
    "    epoch_acc = correct / total * 100\n",
    "    train_losses.append(epoch_loss)\n",
    "    train_accuracies.append(epoch_acc)\n",
    "    \n",
    "\n",
    "    # Validation loop\n",
    "    base_model.eval()\n",
    "    correct = 0\n",
    "    total = 0\n",
    "    with torch.no_grad():\n",
    "        for inputs, labels in val_loader:\n",
    "            outputs = base_model(inputs)\n",
    "            _, predicted = torch.max(outputs, 1)\n",
    "            total += labels.size(0)\n",
    "            correct += (predicted == labels).sum().item()\n",
    "\n",
    "    print(f\"Epoch {epoch + 1}/{num_epochs}, Loss: {running_loss / len(train_loader)}, Accuracy: {100 * correct / total}%\")\n"
   ],
   "id": "40dcfac99a1dac5",
   "outputs": [
    {
     "name": "stdout",
     "output_type": "stream",
     "text": [
      "Epoch 1/30, Loss: 1.5834435136285678, Accuracy: 42.22222222222222%\n",
      "Epoch 2/30, Loss: 1.317062273267666, Accuracy: 46.0%\n",
      "Epoch 3/30, Loss: 1.0367319826497883, Accuracy: 47.55555555555556%\n",
      "Epoch 4/30, Loss: 0.7704049172788151, Accuracy: 48.22222222222222%\n",
      "Epoch 5/30, Loss: 0.5355785270459186, Accuracy: 49.111111111111114%\n",
      "Epoch 6/30, Loss: 0.3748383268021224, Accuracy: 52.22222222222222%\n",
      "Epoch 7/30, Loss: 0.2857163175291082, Accuracy: 48.44444444444444%\n",
      "Epoch 8/30, Loss: 0.2258533935338831, Accuracy: 48.0%\n",
      "Epoch 9/30, Loss: 0.201397883383432, Accuracy: 49.333333333333336%\n",
      "Epoch 10/30, Loss: 0.17580546241182082, Accuracy: 45.111111111111114%\n",
      "Epoch 11/30, Loss: 0.15533922311575532, Accuracy: 49.333333333333336%\n",
      "Epoch 12/30, Loss: 0.14495916267576475, Accuracy: 45.333333333333336%\n",
      "Epoch 13/30, Loss: 0.1317965313486337, Accuracy: 47.333333333333336%\n",
      "Epoch 14/30, Loss: 0.12498431376375901, Accuracy: 48.44444444444444%\n",
      "Epoch 15/30, Loss: 0.11272406381599138, Accuracy: 46.666666666666664%\n",
      "Epoch 16/30, Loss: 0.10744084251209003, Accuracy: 48.888888888888886%\n",
      "Epoch 17/30, Loss: 0.09768628812818107, Accuracy: 48.888888888888886%\n",
      "Epoch 18/30, Loss: 0.09434430901572473, Accuracy: 50.44444444444444%\n",
      "Epoch 19/30, Loss: 0.08789730511911396, Accuracy: 46.44444444444444%\n",
      "Epoch 20/30, Loss: 0.08425918619785865, Accuracy: 48.22222222222222%\n",
      "Epoch 21/30, Loss: 0.08220579958843899, Accuracy: 48.888888888888886%\n",
      "Epoch 22/30, Loss: 0.07775310693540953, Accuracy: 45.111111111111114%\n",
      "Epoch 23/30, Loss: 0.07118521314107273, Accuracy: 47.333333333333336%\n",
      "Epoch 24/30, Loss: 0.07353940114561053, Accuracy: 46.44444444444444%\n",
      "Epoch 25/30, Loss: 0.06755594112249133, Accuracy: 47.77777777777778%\n",
      "Epoch 26/30, Loss: 0.0635138992542085, Accuracy: 47.55555555555556%\n",
      "Epoch 27/30, Loss: 0.0672896057309529, Accuracy: 47.333333333333336%\n",
      "Epoch 28/30, Loss: 0.06312047466696294, Accuracy: 49.333333333333336%\n",
      "Epoch 29/30, Loss: 0.06140930022329444, Accuracy: 49.111111111111114%\n",
      "Epoch 30/30, Loss: 0.05866075507926655, Accuracy: 48.888888888888886%\n"
     ]
    }
   ],
   "execution_count": 47
  },
  {
   "metadata": {
    "ExecuteTime": {
     "end_time": "2024-06-20T08:09:59.845954Z",
     "start_time": "2024-06-20T08:09:59.843170Z"
    }
   },
   "cell_type": "code",
   "source": [
    "print(train_losses[29])\n",
    "print(train_accuracies[29])"
   ],
   "id": "49956d1b97d5f855",
   "outputs": [
    {
     "name": "stdout",
     "output_type": "stream",
     "text": [
      "0.0018332354410085826\n",
      "97.83339913146467\n"
     ]
    }
   ],
   "execution_count": 52
  },
  {
   "metadata": {
    "ExecuteTime": {
     "end_time": "2024-06-20T09:16:49.995917Z",
     "start_time": "2024-06-20T09:16:49.850389Z"
    }
   },
   "cell_type": "code",
   "source": [
    "import torchprofile\n",
    "input = torch.randn(1, 3, 64, 64).to(device) \n",
    "# 計算參數數量\n",
    "num_params = count_parameters(base_model)\n",
    "print(f\"Number of parameters: {num_params}\")\n",
    "\n",
    "# 使用 torchprofile 計算 FLOPs\n",
    "macs = torchprofile.profile_macs(base_model, input)\n",
    "flops = macs * 2\n",
    "print(f\"FLOPs: {flops}\")"
   ],
   "id": "f595bc06541f251",
   "outputs": [
    {
     "name": "stdout",
     "output_type": "stream",
     "text": [
      "Number of parameters: 21310322\n",
      "FLOPs: 598744064\n"
     ]
    }
   ],
   "execution_count": 97
  },
  {
   "metadata": {
    "ExecuteTime": {
     "end_time": "2024-06-09T09:18:45.378242Z",
     "start_time": "2024-06-09T09:18:45.286594Z"
    }
   },
   "cell_type": "code",
   "source": "torch.save(base_model.state_dict(), \"assignment2_Q2_base_model.pth\")",
   "id": "ca2cb40cda6c0e19",
   "outputs": [],
   "execution_count": 127
  },
  {
   "metadata": {
    "ExecuteTime": {
     "end_time": "2024-06-19T11:49:43.520576Z",
     "start_time": "2024-06-19T11:49:43.507710Z"
    }
   },
   "cell_type": "code",
   "source": [
    "base_model.eval()\n",
    "correct = 0\n",
    "total = 0\n",
    "with torch.no_grad():\n",
    "    for inputs, labels in t_loader:\n",
    "        outputs = base_model(inputs)\n",
    "        _, predicted = torch.max(outputs, 1)\n",
    "        total += labels.size(0)\n",
    "        correct += (predicted == labels).sum().item()\n",
    "\n",
    "# Print loss and accuracy\n",
    "print(f\"Accuracy of the network on the 450 test images: {100 * correct / total}%\")"
   ],
   "id": "129a51b53039649",
   "outputs": [
    {
     "ename": "NameError",
     "evalue": "name 'base_model' is not defined",
     "output_type": "error",
     "traceback": [
      "\u001B[1;31m---------------------------------------------------------------------------\u001B[0m",
      "\u001B[1;31mNameError\u001B[0m                                 Traceback (most recent call last)",
      "Cell \u001B[1;32mIn[11], line 1\u001B[0m\n\u001B[1;32m----> 1\u001B[0m \u001B[43mbase_model\u001B[49m\u001B[38;5;241m.\u001B[39meval()\n\u001B[0;32m      2\u001B[0m correct \u001B[38;5;241m=\u001B[39m \u001B[38;5;241m0\u001B[39m\n\u001B[0;32m      3\u001B[0m total \u001B[38;5;241m=\u001B[39m \u001B[38;5;241m0\u001B[39m\n",
      "\u001B[1;31mNameError\u001B[0m: name 'base_model' is not defined"
     ]
    }
   ],
   "execution_count": 11
  },
  {
   "metadata": {
    "ExecuteTime": {
     "end_time": "2024-06-20T08:26:17.024818Z",
     "start_time": "2024-06-20T08:26:16.761083Z"
    }
   },
   "cell_type": "code",
   "source": [
    "dcn_model.eval()\n",
    "correct = 0\n",
    "total = 0\n",
    "with torch.no_grad():\n",
    "    for inputs, labels in t_loader:\n",
    "        outputs = base_model(inputs)\n",
    "        _, predicted = torch.max(outputs, 1)\n",
    "        total += labels.size(0)\n",
    "        correct += (predicted == labels).sum().item()\n",
    "\n",
    "# Print loss and accuracy\n",
    "print(f\"Accuracy of the network on the 450 test images: {100 * correct / total}%\")"
   ],
   "id": "95a7ac2d6c4a3c65",
   "outputs": [
    {
     "name": "stdout",
     "output_type": "stream",
     "text": [
      "Accuracy of the network on the 450 test images: 46.22222222222222%\n"
     ]
    }
   ],
   "execution_count": 63
  },
  {
   "metadata": {
    "ExecuteTime": {
     "end_time": "2024-06-20T08:10:29.454430Z",
     "start_time": "2024-06-20T08:10:29.343591Z"
    }
   },
   "cell_type": "code",
   "source": [
    "import torch\n",
    "import torch\n",
    "import torchvision.ops\n",
    "from torch import nn\n",
    "\n",
    "\n",
    "class DeformableConv2d(nn.Module):\n",
    "    def __init__(self,\n",
    "                 in_channels,\n",
    "                 out_channels,\n",
    "                 kernel_size=3,\n",
    "                 stride=1,\n",
    "                 padding=1,\n",
    "                 dilation=1,\n",
    "                 bias=False):\n",
    "        super(DeformableConv2d, self).__init__()\n",
    "\n",
    "        assert type(kernel_size) == tuple or type(kernel_size) == int\n",
    "\n",
    "        kernel_size = kernel_size if type(kernel_size) == tuple else (kernel_size, kernel_size)\n",
    "        self.stride = stride if type(stride) == tuple else (stride, stride)\n",
    "        self.padding = padding\n",
    "        self.dilation = dilation\n",
    "\n",
    "        self.offset_conv = nn.Conv2d(in_channels,\n",
    "                                     2 * kernel_size[0] * kernel_size[1],\n",
    "                                     kernel_size=kernel_size,\n",
    "                                     stride=stride,\n",
    "                                     padding=self.padding,\n",
    "                                     dilation=self.dilation,\n",
    "                                     bias=True)\n",
    "\n",
    "        nn.init.constant_(self.offset_conv.weight, 0.)\n",
    "        nn.init.constant_(self.offset_conv.bias, 0.)\n",
    "\n",
    "        self.modulator_conv = nn.Conv2d(in_channels,\n",
    "                                        1 * kernel_size[0] * kernel_size[1],\n",
    "                                        kernel_size=kernel_size,\n",
    "                                        stride=stride,\n",
    "                                        padding=self.padding,\n",
    "                                        dilation=self.dilation,\n",
    "                                        bias=True)\n",
    "\n",
    "        nn.init.constant_(self.modulator_conv.weight, 0.)\n",
    "        nn.init.constant_(self.modulator_conv.bias, 0.)\n",
    "\n",
    "        self.regular_conv = nn.Conv2d(in_channels=in_channels,\n",
    "                                      out_channels=out_channels,\n",
    "                                      kernel_size=kernel_size,\n",
    "                                      stride=stride,\n",
    "                                      padding=self.padding,\n",
    "                                      dilation=self.dilation,\n",
    "                                      bias=bias)\n",
    "\n",
    "    def forward(self, x):\n",
    "        # h, w = x.shape[2:]\n",
    "        # max_offset = max(h, w)/4.\n",
    "\n",
    "        offset = self.offset_conv(x)  # .clamp(-max_offset, max_offset)\n",
    "        modulator = 2. * torch.sigmoid(self.modulator_conv(x))\n",
    "        # op = (n - (k * d - 1) + 2p / s)\n",
    "        x = torchvision.ops.deform_conv2d(input=x,\n",
    "                                          offset=offset,\n",
    "                                          weight=self.regular_conv.weight,\n",
    "                                          bias=self.regular_conv.bias,\n",
    "                                          padding=self.padding,\n",
    "                                          mask=modulator,\n",
    "                                          stride=self.stride,\n",
    "                                          dilation=self.dilation)\n",
    "        return x"
   ],
   "id": "36d35ae889ed9b43",
   "outputs": [],
   "execution_count": 53
  },
  {
   "metadata": {
    "ExecuteTime": {
     "end_time": "2024-06-20T08:10:32.251316Z",
     "start_time": "2024-06-20T08:10:32.241473Z"
    }
   },
   "cell_type": "code",
   "source": [
    "import torch\n",
    "import torch.nn as nn\n",
    "import torchvision.ops\n",
    "import torch.optim as optim\n",
    "import torch.nn.functional as F\n",
    "\n",
    "class DeformableConv2d(nn.Module):\n",
    "    def __init__(self,\n",
    "                 in_channels,\n",
    "                 out_channels,\n",
    "                 kernel_size=3,\n",
    "                 stride=1,\n",
    "                 padding=1,\n",
    "                 dilation=1,\n",
    "                 bias=False):\n",
    "        super(DeformableConv2d, self).__init__()\n",
    "\n",
    "        assert type(kernel_size) == tuple or type(kernel_size) == int\n",
    "\n",
    "        kernel_size = kernel_size if type(kernel_size) == tuple else (kernel_size, kernel_size)\n",
    "        self.stride = stride if type(stride) == tuple else (stride, stride)\n",
    "        self.padding = padding\n",
    "        self.dilation = dilation\n",
    "\n",
    "        self.offset_conv = nn.Conv2d(in_channels,\n",
    "                                     2 * kernel_size[0] * kernel_size[1],\n",
    "                                     kernel_size=kernel_size,\n",
    "                                     stride=stride,\n",
    "                                     padding=self.padding,\n",
    "                                     dilation=self.dilation,\n",
    "                                     bias=True)\n",
    "\n",
    "        nn.init.constant_(self.offset_conv.weight, 0.)\n",
    "        nn.init.constant_(self.offset_conv.bias, 0.)\n",
    "\n",
    "        self.modulator_conv = nn.Conv2d(in_channels,\n",
    "                                        1 * kernel_size[0] * kernel_size[1],\n",
    "                                        kernel_size=kernel_size,\n",
    "                                        stride=stride,\n",
    "                                        padding=self.padding,\n",
    "                                        dilation=self.dilation,\n",
    "                                        bias=True)\n",
    "\n",
    "        nn.init.constant_(self.modulator_conv.weight, 0.)\n",
    "        nn.init.constant_(self.modulator_conv.bias, 0.)\n",
    "\n",
    "        self.regular_conv = nn.Conv2d(in_channels=in_channels,\n",
    "                                      out_channels=out_channels,\n",
    "                                      kernel_size=kernel_size,\n",
    "                                      stride=stride,\n",
    "                                      padding=self.padding,\n",
    "                                      dilation=self.dilation,\n",
    "                                      bias=bias)\n",
    "\n",
    "    def forward(self, x):\n",
    "        offset = self.offset_conv(x)\n",
    "        modulator = 2. * torch.sigmoid(self.modulator_conv(x))\n",
    "        x = torchvision.ops.deform_conv2d(input=x,\n",
    "                                          offset=offset,\n",
    "                                          weight=self.regular_conv.weight,\n",
    "                                          bias=self.regular_conv.bias,\n",
    "                                          padding=self.padding,\n",
    "                                          mask=modulator,\n",
    "                                          stride=self.stride,\n",
    "                                          dilation=self.dilation)\n",
    "        return x\n",
    "\n",
    "class Attention(nn.Module):\n",
    "    def __init__(self, in_channels):\n",
    "        super(Attention, self).__init__()\n",
    "        self.attention = nn.Sequential(\n",
    "            nn.Conv2d(in_channels, in_channels // 8, kernel_size=1),\n",
    "            nn.ReLU(),\n",
    "            nn.Conv2d(in_channels // 8, in_channels, kernel_size=1),\n",
    "            nn.Sigmoid()\n",
    "        )\n",
    "\n",
    "    def forward(self, x):\n",
    "        attention = self.attention(x)\n",
    "        return x * attention\n",
    "    \n",
    "    \n",
    "class CBAM(nn.Module):\n",
    "    def __init__(self, channels, r):\n",
    "        super(CBAM, self).__init__()\n",
    "        self.channels = channels\n",
    "        self.r = r\n",
    "        self.sam = SAM(bias=False)\n",
    "        self.cam = CAM(channels=self.channels, r=self.r)\n",
    "\n",
    "    def forward(self, x):\n",
    "        output = self.cam(x)\n",
    "        output = self.sam(output)\n",
    "        return output + x\n",
    "    \n",
    "    \n",
    "class CAM(nn.Module):\n",
    "    def __init__(self, channels, r):\n",
    "        super(CAM, self).__init__()\n",
    "        self.channels = channels\n",
    "        self.r = r\n",
    "        self.linear = nn.Sequential(\n",
    "            nn.Linear(in_features=self.channels, out_features=self.channels//self.r, bias=True),\n",
    "            nn.ReLU(inplace=True),\n",
    "            nn.Linear(in_features=self.channels//self.r, out_features=self.channels, bias=True))\n",
    "\n",
    "    def forward(self, x):\n",
    "        max = F.adaptive_max_pool2d(x, output_size=1)\n",
    "        avg = F.adaptive_avg_pool2d(x, output_size=1)\n",
    "        b, c, _, _ = x.size()\n",
    "        linear_max = self.linear(max.view(b,c)).view(b, c, 1, 1)\n",
    "        linear_avg = self.linear(avg.view(b,c)).view(b, c, 1, 1)\n",
    "        output = linear_max + linear_avg\n",
    "        output = F.sigmoid(output) * x\n",
    "        return output\n",
    "    \n",
    "class SAM(nn.Module):\n",
    "    def __init__(self, bias=False):\n",
    "        super(SAM, self).__init__()\n",
    "        self.bias = bias\n",
    "        self.conv = nn.Conv2d(in_channels=2, out_channels=1, kernel_size=7, stride=1, padding=3, dilation=1, bias=self.bias)\n",
    "\n",
    "    def forward(self, x):\n",
    "        max = torch.max(x,1)[0].unsqueeze(1)\n",
    "        avg = torch.mean(x,1).unsqueeze(1)\n",
    "        concat = torch.cat((max,avg), dim=1)\n",
    "        output = self.conv(concat)\n",
    "        output = F.sigmoid(output) * x \n",
    "        return output "
   ],
   "id": "1450ebb67dd40e12",
   "outputs": [],
   "execution_count": 54
  },
  {
   "metadata": {
    "ExecuteTime": {
     "end_time": "2024-06-20T08:13:46.411947Z",
     "start_time": "2024-06-20T08:13:46.386338Z"
    }
   },
   "cell_type": "code",
   "source": [
    "class Classifier(nn.Module):\n",
    "    def __init__(self, num_classes=50):\n",
    "        super(Classifier, self).__init__()\n",
    "        self.layer1 = nn.Conv2d(3, 64, kernel_size=5, stride=2, padding=2, bias=True)\n",
    "        self.attention1 = Attention(64)\n",
    "        self.bn1 = nn.LayerNorm([64, 64, 64])\n",
    "        self.pool1 = nn.MaxPool2d(2)\n",
    "        \n",
    "        self.layer2 = nn.Conv2d(64, 64, kernel_size=3, stride=1, padding=1, bias=True)\n",
    "        self.bn = nn.LayerNorm([64, 32, 32])\n",
    "        \n",
    "        self.layer3 = nn.Conv2d(64, 64, kernel_size=3, stride=1, padding=1, bias=True)\n",
    "        self.layer4 = DeformableConv2d(in_channels=64, out_channels=128, kernel_size=3, stride=1, padding=1, bias=True)\n",
    "        self.attention2 = CBAM(128, r=2)\n",
    "        self.pool2 = nn.MaxPool2d(2)\n",
    "        self.bn2 = nn.LayerNorm([128, 32, 32])\n",
    "\n",
    "        self.dropout = nn.Dropout(0.5)\n",
    "        self.pooling = nn.AdaptiveAvgPool2d((1, 1))\n",
    "        self.fc1 = nn.Linear(128, 50)\n",
    "\n",
    "    def forward(self, x):\n",
    "        x = self.layer1(x)\n",
    "        x = self.bn1(x)\n",
    "        x = F.gelu(x) \n",
    "        x = self.attention1(x)\n",
    "        x = self.pool1(x)\n",
    "        x = self.layer2(x)\n",
    "        x = self.bn(x)\n",
    "        x = F.gelu(x) \n",
    "        \n",
    "        x = self.layer3(x)\n",
    "        x = self.layer4(x)\n",
    "        x = self.bn2(x)\n",
    "        x = F.gelu(x) \n",
    "        x = self.attention2(x)\n",
    "        x = self.pool2(x)\n",
    "        \n",
    "        x = self.pooling(x)\n",
    "        x = x.view(x.size(0), -1)\n",
    "        x = self.fc1(x)\n",
    "        return x\n",
    "\n",
    "# Create a random tensor with the shape (batch_size, channels, height, width)\n",
    "\n",
    "# Initialize the model\n",
    "dcn_model = Classifier(num_classes=50).to(device)\n",
    "criterion = nn.CrossEntropyLoss()\n",
    "optimizer = optim.Adam(dcn_model.parameters(), lr=0.001)\n",
    "print(dcn_model)"
   ],
   "id": "7033c86e3c79b0b2",
   "outputs": [
    {
     "name": "stdout",
     "output_type": "stream",
     "text": [
      "Classifier(\n",
      "  (layer1): Conv2d(3, 64, kernel_size=(5, 5), stride=(2, 2), padding=(2, 2))\n",
      "  (attention1): Attention(\n",
      "    (attention): Sequential(\n",
      "      (0): Conv2d(64, 8, kernel_size=(1, 1), stride=(1, 1))\n",
      "      (1): ReLU()\n",
      "      (2): Conv2d(8, 64, kernel_size=(1, 1), stride=(1, 1))\n",
      "      (3): Sigmoid()\n",
      "    )\n",
      "  )\n",
      "  (bn1): LayerNorm((64, 64, 64), eps=1e-05, elementwise_affine=True)\n",
      "  (pool1): MaxPool2d(kernel_size=2, stride=2, padding=0, dilation=1, ceil_mode=False)\n",
      "  (layer2): Conv2d(64, 64, kernel_size=(3, 3), stride=(1, 1), padding=(1, 1))\n",
      "  (bn): LayerNorm((64, 32, 32), eps=1e-05, elementwise_affine=True)\n",
      "  (layer3): Conv2d(64, 64, kernel_size=(3, 3), stride=(1, 1), padding=(1, 1))\n",
      "  (layer4): DeformableConv2d(\n",
      "    (offset_conv): Conv2d(64, 18, kernel_size=(3, 3), stride=(1, 1), padding=(1, 1))\n",
      "    (modulator_conv): Conv2d(64, 9, kernel_size=(3, 3), stride=(1, 1), padding=(1, 1))\n",
      "    (regular_conv): Conv2d(64, 128, kernel_size=(3, 3), stride=(1, 1), padding=(1, 1))\n",
      "  )\n",
      "  (attention2): CBAM(\n",
      "    (sam): SAM(\n",
      "      (conv): Conv2d(2, 1, kernel_size=(7, 7), stride=(1, 1), padding=(3, 3), bias=False)\n",
      "    )\n",
      "    (cam): CAM(\n",
      "      (linear): Sequential(\n",
      "        (0): Linear(in_features=128, out_features=64, bias=True)\n",
      "        (1): ReLU(inplace=True)\n",
      "        (2): Linear(in_features=64, out_features=128, bias=True)\n",
      "      )\n",
      "    )\n",
      "  )\n",
      "  (pool2): MaxPool2d(kernel_size=2, stride=2, padding=0, dilation=1, ceil_mode=False)\n",
      "  (bn2): LayerNorm((128, 32, 32), eps=1e-05, elementwise_affine=True)\n",
      "  (dropout): Dropout(p=0.5, inplace=False)\n",
      "  (pooling): AdaptiveAvgPool2d(output_size=(1, 1))\n",
      "  (fc1): Linear(in_features=128, out_features=50, bias=True)\n",
      ")\n"
     ]
    }
   ],
   "execution_count": 55
  },
  {
   "metadata": {
    "ExecuteTime": {
     "end_time": "2024-06-20T08:13:49.562643Z",
     "start_time": "2024-06-20T08:13:49.553072Z"
    }
   },
   "cell_type": "code",
   "source": "torch.cuda.empty_cache()",
   "id": "104fff725ea52fcc",
   "outputs": [],
   "execution_count": 56
  },
  {
   "metadata": {
    "ExecuteTime": {
     "end_time": "2024-06-20T08:23:18.011575Z",
     "start_time": "2024-06-20T08:13:52.699950Z"
    }
   },
   "cell_type": "code",
   "source": [
    "import torch\n",
    "import os\n",
    "\n",
    "# Training loop\n",
    "num_epochs = 30\n",
    "save_dir = './model_checkpoints'  # Directory where model checkpoints will be saved\n",
    "\n",
    "if not os.path.exists(save_dir):\n",
    "    os.makedirs(save_dir)\n",
    "train_losses = []\n",
    "val_losses = []\n",
    "train_accuracies = []\n",
    "val_accuracies = []\n",
    "\n",
    "for epoch in range(num_epochs):\n",
    "    dcn_model.train()\n",
    "    running_loss = 0.0\n",
    "    correct = 0\n",
    "    total = 0\n",
    "    for inputs, labels in train_loader:\n",
    "        optimizer.zero_grad()\n",
    "        outputs = dcn_model(inputs)\n",
    "        loss = criterion(outputs, labels)\n",
    "        loss.backward()\n",
    "        optimizer.step()\n",
    "        running_loss += loss.item()\n",
    "        val_loss += loss.item() * inputs.size(0)\n",
    "        _, predicted = torch.max(outputs, 1)\n",
    "        total += labels.size(0)\n",
    "        correct += (predicted == labels).sum().item()\n",
    "        \n",
    "    epoch_loss = running_loss / total\n",
    "    epoch_acc = correct / total * 100\n",
    "    train_losses.append(epoch_loss)\n",
    "    train_accuracies.append(epoch_acc)\n",
    "\n",
    "    # Validation loop\n",
    "    dcn_model.eval()\n",
    "    correct = 0\n",
    "    total = 0\n",
    "    with torch.no_grad():\n",
    "        for inputs, labels in val_loader:\n",
    "            outputs = dcn_model(inputs)\n",
    "            _, predicted = torch.max(outputs, 1)\n",
    "            total += labels.size(0)\n",
    "            correct += (predicted == labels).sum().item()\n",
    "\n",
    "    # Print loss and accuracy\n",
    "    print(f\"Epoch {epoch + 1}/{num_epochs}, Loss: {running_loss / len(train_loader)}, Accuracy: {100 * correct / total}%\")\n",
    "\n",
    "    # Save model parameters\n",
    "    checkpoint_path = os.path.join(save_dir, f'model_epoch_{epoch + 1}.pth')\n",
    "    torch.save({\n",
    "        'epoch': epoch + 1,                     \n",
    "        'model_state_dict': dcn_model.state_dict(),\n",
    "        'optimizer_state_dict': optimizer.state_dict(),\n",
    "        'loss': running_loss / len(train_loader),\n",
    "        'accuracy': 100 * correct / total\n",
    "    }, checkpoint_path)\n",
    "\n",
    "    print(f\"Model saved at {checkpoint_path}\")\n"
   ],
   "id": "10719ae9df4e46f4",
   "outputs": [
    {
     "name": "stdout",
     "output_type": "stream",
     "text": [
      "Epoch 1/30, Loss: 3.3638417419609006, Accuracy: 18.22222222222222%\n",
      "Model saved at ./model_checkpoints\\model_epoch_1.pth\n",
      "Epoch 2/30, Loss: 2.870916064548155, Accuracy: 20.666666666666668%\n",
      "Model saved at ./model_checkpoints\\model_epoch_2.pth\n",
      "Epoch 3/30, Loss: 2.661215045826793, Accuracy: 28.22222222222222%\n",
      "Model saved at ./model_checkpoints\\model_epoch_3.pth\n",
      "Epoch 4/30, Loss: 2.522314536565479, Accuracy: 27.77777777777778%\n",
      "Model saved at ./model_checkpoints\\model_epoch_4.pth\n",
      "Epoch 5/30, Loss: 2.411317072533911, Accuracy: 32.666666666666664%\n",
      "Model saved at ./model_checkpoints\\model_epoch_5.pth\n",
      "Epoch 6/30, Loss: 2.3212589815808644, Accuracy: 34.666666666666664%\n",
      "Model saved at ./model_checkpoints\\model_epoch_6.pth\n",
      "Epoch 7/30, Loss: 2.2436112280503977, Accuracy: 33.55555555555556%\n",
      "Model saved at ./model_checkpoints\\model_epoch_7.pth\n",
      "Epoch 8/30, Loss: 2.187019668124191, Accuracy: 33.77777777777778%\n",
      "Model saved at ./model_checkpoints\\model_epoch_8.pth\n",
      "Epoch 9/30, Loss: 2.1301817713270528, Accuracy: 36.666666666666664%\n",
      "Model saved at ./model_checkpoints\\model_epoch_9.pth\n",
      "Epoch 10/30, Loss: 2.0748831462595065, Accuracy: 38.44444444444444%\n",
      "Model saved at ./model_checkpoints\\model_epoch_10.pth\n",
      "Epoch 11/30, Loss: 2.032774451346395, Accuracy: 36.888888888888886%\n",
      "Model saved at ./model_checkpoints\\model_epoch_11.pth\n",
      "Epoch 12/30, Loss: 1.9966782205571063, Accuracy: 40.44444444444444%\n",
      "Model saved at ./model_checkpoints\\model_epoch_12.pth\n",
      "Epoch 13/30, Loss: 1.9443993462403053, Accuracy: 41.77777777777778%\n",
      "Model saved at ./model_checkpoints\\model_epoch_13.pth\n",
      "Epoch 14/30, Loss: 1.9092674093935573, Accuracy: 40.0%\n",
      "Model saved at ./model_checkpoints\\model_epoch_14.pth\n",
      "Epoch 15/30, Loss: 1.879179311557633, Accuracy: 41.55555555555556%\n",
      "Model saved at ./model_checkpoints\\model_epoch_15.pth\n",
      "Epoch 16/30, Loss: 1.8660371128870659, Accuracy: 44.888888888888886%\n",
      "Model saved at ./model_checkpoints\\model_epoch_16.pth\n",
      "Epoch 17/30, Loss: 1.8380008266091408, Accuracy: 43.77777777777778%\n",
      "Model saved at ./model_checkpoints\\model_epoch_17.pth\n",
      "Epoch 18/30, Loss: 1.8114017475247683, Accuracy: 40.888888888888886%\n",
      "Model saved at ./model_checkpoints\\model_epoch_18.pth\n",
      "Epoch 19/30, Loss: 1.7901117361633991, Accuracy: 43.77777777777778%\n",
      "Model saved at ./model_checkpoints\\model_epoch_19.pth\n",
      "Epoch 20/30, Loss: 1.7803740997456612, Accuracy: 44.22222222222222%\n",
      "Model saved at ./model_checkpoints\\model_epoch_20.pth\n",
      "Epoch 21/30, Loss: 1.7489615014974007, Accuracy: 40.888888888888886%\n",
      "Model saved at ./model_checkpoints\\model_epoch_21.pth\n",
      "Epoch 22/30, Loss: 1.7403972289247787, Accuracy: 47.111111111111114%\n",
      "Model saved at ./model_checkpoints\\model_epoch_22.pth\n",
      "Epoch 23/30, Loss: 1.7139580135637007, Accuracy: 44.22222222222222%\n",
      "Model saved at ./model_checkpoints\\model_epoch_23.pth\n",
      "Epoch 24/30, Loss: 1.7289194584254246, Accuracy: 37.55555555555556%\n",
      "Model saved at ./model_checkpoints\\model_epoch_24.pth\n",
      "Epoch 25/30, Loss: 1.7000192800756053, Accuracy: 43.333333333333336%\n",
      "Model saved at ./model_checkpoints\\model_epoch_25.pth\n",
      "Epoch 26/30, Loss: 1.6856548998800416, Accuracy: 45.111111111111114%\n",
      "Model saved at ./model_checkpoints\\model_epoch_26.pth\n",
      "Epoch 27/30, Loss: 1.6707070772849049, Accuracy: 41.111111111111114%\n",
      "Model saved at ./model_checkpoints\\model_epoch_27.pth\n",
      "Epoch 28/30, Loss: 1.6569850673995998, Accuracy: 42.0%\n",
      "Model saved at ./model_checkpoints\\model_epoch_28.pth\n",
      "Epoch 29/30, Loss: 1.6492726839871765, Accuracy: 41.55555555555556%\n",
      "Model saved at ./model_checkpoints\\model_epoch_29.pth\n",
      "Epoch 30/30, Loss: 1.6458791955183587, Accuracy: 46.888888888888886%\n",
      "Model saved at ./model_checkpoints\\model_epoch_30.pth\n"
     ]
    }
   ],
   "execution_count": 57
  },
  {
   "metadata": {
    "ExecuteTime": {
     "end_time": "2024-06-20T08:27:35.888264Z",
     "start_time": "2024-06-20T08:27:35.882898Z"
    }
   },
   "cell_type": "code",
   "source": [
    "print(train_losses[29])\n",
    "print(train_accuracies[29])"
   ],
   "id": "a011817fbb0f24b4",
   "outputs": [
    {
     "name": "stdout",
     "output_type": "stream",
     "text": [
      "0.051436161514896675\n",
      "50.55665219107778\n"
     ]
    }
   ],
   "execution_count": 64
  },
  {
   "metadata": {
    "ExecuteTime": {
     "end_time": "2024-06-09T06:09:43.862003Z",
     "start_time": "2024-06-09T06:09:43.851704Z"
    }
   },
   "cell_type": "code",
   "source": "torch.save(dcn_model.state_dict(), \"assignment2_Q2_model.pth\")",
   "id": "55cb705a0ac9bd28",
   "outputs": [],
   "execution_count": 110
  },
  {
   "metadata": {
    "ExecuteTime": {
     "end_time": "2024-06-20T09:17:55.981415Z",
     "start_time": "2024-06-20T09:17:55.941152Z"
    }
   },
   "cell_type": "code",
   "source": [
    "import torchprofile\n",
    "input = torch.randn(1, 3, 128, 128).to(device) \n",
    "# 計算參數數量\n",
    "num_params = count_parameters(dcn_model)\n",
    "print(f\"Number of parameters: {num_params}\")\n",
    "\n",
    "# 使用 torchprofile 計算 FLOPs\n",
    "macs = torchprofile.profile_macs(dcn_model, input)\n",
    "flops = macs * 2\n",
    "print(f\"FLOPs: {flops}\")"
   ],
   "id": "3baa3026e9996e40",
   "outputs": [
    {
     "name": "stdout",
     "output_type": "stream",
     "text": [
      "Number of parameters: 1109879\n",
      "FLOPs: 232821760\n"
     ]
    }
   ],
   "execution_count": 102
  },
  {
   "metadata": {
    "ExecuteTime": {
     "end_time": "2024-06-20T08:25:57.831053Z",
     "start_time": "2024-06-20T08:25:57.474051Z"
    }
   },
   "cell_type": "code",
   "source": [
    "dcn_model.eval()\n",
    "correct = 0\n",
    "total = 0\n",
    "with torch.no_grad():\n",
    "    for inputs, labels in t_loader:\n",
    "        outputs = dcn_model(inputs)\n",
    "        _, predicted = torch.max(outputs, 1)\n",
    "        total += labels.size(0)\n",
    "        correct += (predicted == labels).sum().item()\n",
    "\n",
    "# Print loss and accuracy\n",
    "print(f\"Accuracy of the network on the 450 test images: {100 * correct / total}%\")"
   ],
   "id": "9fc5e7a36616a34a",
   "outputs": [
    {
     "name": "stdout",
     "output_type": "stream",
     "text": [
      "Accuracy of the network on the 450 test images: 46.22222222222222%\n"
     ]
    }
   ],
   "execution_count": 62
  },
  {
   "metadata": {},
   "cell_type": "code",
   "outputs": [],
   "execution_count": null,
   "source": "dcn_model = torch.load(\"assignment2_Q2_model.pth\")",
   "id": "3fd70824a9ecc901"
  }
 ],
 "metadata": {
  "kernelspec": {
   "display_name": "Python 3",
   "language": "python",
   "name": "python3"
  },
  "language_info": {
   "codemirror_mode": {
    "name": "ipython",
    "version": 2
   },
   "file_extension": ".py",
   "mimetype": "text/x-python",
   "name": "python",
   "nbconvert_exporter": "python",
   "pygments_lexer": "ipython2",
   "version": "2.7.6"
  }
 },
 "nbformat": 4,
 "nbformat_minor": 5
}
